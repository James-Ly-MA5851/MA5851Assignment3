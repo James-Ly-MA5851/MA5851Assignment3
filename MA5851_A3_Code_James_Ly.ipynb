{
  "nbformat": 4,
  "nbformat_minor": 0,
  "metadata": {
    "colab": {
      "name": "MA5851_A3_Code_James_Ly.ipynb",
      "provenance": [],
      "collapsed_sections": [],
      "authorship_tag": "ABX9TyNoFJ+gCVAS5ECwGNywFnf8",
      "include_colab_link": true
    },
    "kernelspec": {
      "name": "python3",
      "display_name": "Python 3"
    },
    "language_info": {
      "name": "python"
    }
  },
  "cells": [
    {
      "cell_type": "markdown",
      "metadata": {
        "id": "view-in-github",
        "colab_type": "text"
      },
      "source": [
        "<a href=\"https://colab.research.google.com/github/James-Ly-MA5851/MA5851Assignment3/blob/MA5851Assignment3Dev_1.0/MA5851_A3_Code_James_Ly.ipynb\" target=\"_parent\"><img src=\"https://colab.research.google.com/assets/colab-badge.svg\" alt=\"Open In Colab\"/></a>"
      ]
    },
    {
      "cell_type": "markdown",
      "metadata": {
        "id": "QfaJ4Pju332v"
      },
      "source": [
        "# **Section 1a - Web Scraping of tweets from Twitter**"
      ]
    },
    {
      "cell_type": "code",
      "metadata": {
        "id": "R0U0scYR_98k"
      },
      "source": [
        "# Install packages\n",
        "\n",
        "!pip install -q snscrape"
      ],
      "execution_count": 1,
      "outputs": []
    },
    {
      "cell_type": "code",
      "metadata": {
        "id": "a-htT3am41Ly"
      },
      "source": [
        "# Import packages\n",
        "\n",
        "import pandas as pd\n",
        "import snscrape.modules.twitter as sntwitter\n",
        "import itertools\n",
        "from google.colab import files\n",
        "import io"
      ],
      "execution_count": 2,
      "outputs": []
    },
    {
      "cell_type": "code",
      "metadata": {
        "id": "ZZQPJwcZ6SpY",
        "colab": {
          "base_uri": "https://localhost:8080/"
        },
        "outputId": "3fc49bf6-51cb-428d-fc8c-a46cc6b5cf5d"
      },
      "source": [
        "# Create dataframe of scraped tweets using the search terms \"covid\", \"covid19\" and \"coronavirus\" (must include \"australia\")\n",
        "\n",
        "tweets_df = pd.DataFrame(itertools.islice(sntwitter.TwitterSearchScraper('(\"covid\" AND \"australia\") OR (\"covid19\" AND \"australia\") OR (\"coronavirus\" AND \"australia\")').get_items(), 20000))"
      ],
      "execution_count": null,
      "outputs": [
        {
          "output_type": "stream",
          "name": "stderr",
          "text": [
            "Error retrieving https://api.twitter.com/2/search/adaptive.json?include_profile_interstitial_type=1&include_blocking=1&include_blocked_by=1&include_followed_by=1&include_want_retweets=1&include_mute_edge=1&include_can_dm=1&include_can_media_tag=1&skip_status=1&cards_platform=Web-12&include_cards=1&include_composer_source=true&include_ext_alt_text=true&include_reply_count=1&tweet_mode=extended&include_entities=true&include_user_entities=true&include_ext_media_color=true&include_ext_media_availability=true&send_error_codes=true&simple_quoted_tweets=true&q=%28%22covid%22+AND+%22australia%22%29+OR+%28%22covid19%22+AND+%22australia%22%29+OR+%28%22coronavirus%22+AND+%22australia%22%29&tweet_search_mode=live&count=100&query_source=spelling_expansion_revert_click&cursor=scroll%3AthGAVUV0VFVBaKwKPhzq3W0SgWhsCjzaSY3d4oEnEV2LxiFYCJehgHREVGQVVMVDUBFaoQFQAA&pc=1&spelling_corrections=1&ext=mediaStats%252CcameraMoment: ConnectionError(ProtocolError('Connection aborted.', ConnectionResetError(104, 'Connection reset by peer'))), retrying\n"
          ]
        }
      ]
    },
    {
      "cell_type": "code",
      "metadata": {
        "colab": {
          "base_uri": "https://localhost:8080/",
          "height": 963
        },
        "id": "_72twyQEBMmY",
        "outputId": "e8ff25d7-75ae-4740-d1ee-eff421ff367f"
      },
      "source": [
        "# Preview the tweets dataframe\n",
        "\n",
        "display(tweets_df)"
      ],
      "execution_count": null,
      "outputs": [
        {
          "output_type": "display_data",
          "data": {
            "text/html": [
              "<div>\n",
              "<style scoped>\n",
              "    .dataframe tbody tr th:only-of-type {\n",
              "        vertical-align: middle;\n",
              "    }\n",
              "\n",
              "    .dataframe tbody tr th {\n",
              "        vertical-align: top;\n",
              "    }\n",
              "\n",
              "    .dataframe thead th {\n",
              "        text-align: right;\n",
              "    }\n",
              "</style>\n",
              "<table border=\"1\" class=\"dataframe\">\n",
              "  <thead>\n",
              "    <tr style=\"text-align: right;\">\n",
              "      <th></th>\n",
              "      <th>url</th>\n",
              "      <th>date</th>\n",
              "      <th>content</th>\n",
              "      <th>id</th>\n",
              "      <th>username</th>\n",
              "      <th>outlinks</th>\n",
              "      <th>outlinksss</th>\n",
              "      <th>tcooutlinks</th>\n",
              "      <th>tcooutlinksss</th>\n",
              "    </tr>\n",
              "  </thead>\n",
              "  <tbody>\n",
              "    <tr>\n",
              "      <th>0</th>\n",
              "      <td>https://twitter.com/SMorganGrahame/status/1467...</td>\n",
              "      <td>2021-12-05 12:51:53+00:00</td>\n",
              "      <td>It’s taken a lot but @RemyMoynes and I are alm...</td>\n",
              "      <td>1467476823227265031</td>\n",
              "      <td>SMorganGrahame</td>\n",
              "      <td>[]</td>\n",
              "      <td></td>\n",
              "      <td>[]</td>\n",
              "      <td></td>\n",
              "    </tr>\n",
              "    <tr>\n",
              "      <th>1</th>\n",
              "      <td>https://twitter.com/JosephMIFSUD206/status/146...</td>\n",
              "      <td>2021-12-05 12:51:32+00:00</td>\n",
              "      <td>Australia: Protesters swarm Melbourne streets ...</td>\n",
              "      <td>1467476733377007619</td>\n",
              "      <td>JosephMIFSUD206</td>\n",
              "      <td>[https://youtu.be/9O7CMDouJhc]</td>\n",
              "      <td>https://youtu.be/9O7CMDouJhc</td>\n",
              "      <td>[https://t.co/ShDkJ4qGjV]</td>\n",
              "      <td>https://t.co/ShDkJ4qGjV</td>\n",
              "    </tr>\n",
              "    <tr>\n",
              "      <th>2</th>\n",
              "      <td>https://twitter.com/dailymail241/status/146747...</td>\n",
              "      <td>2021-12-05 12:51:27+00:00</td>\n",
              "      <td>Covid-19 Australia: Victoria and NSW keep bord...</td>\n",
              "      <td>1467476711923240967</td>\n",
              "      <td>dailymail241</td>\n",
              "      <td>[https://usmail24.com/covid-19-australia-victo...</td>\n",
              "      <td>https://usmail24.com/covid-19-australia-victor...</td>\n",
              "      <td>[https://t.co/KLSQj8PLXJ]</td>\n",
              "      <td>https://t.co/KLSQj8PLXJ</td>\n",
              "    </tr>\n",
              "    <tr>\n",
              "      <th>3</th>\n",
              "      <td>https://twitter.com/usmail24/status/1467476708...</td>\n",
              "      <td>2021-12-05 12:51:26+00:00</td>\n",
              "      <td>Covid-19 Australia: Victoria and NSW keep bord...</td>\n",
              "      <td>1467476708873879569</td>\n",
              "      <td>usmail24</td>\n",
              "      <td>[https://usmail24.com/covid-19-australia-victo...</td>\n",
              "      <td>https://usmail24.com/covid-19-australia-victor...</td>\n",
              "      <td>[https://t.co/GSjW2J7cjm]</td>\n",
              "      <td>https://t.co/GSjW2J7cjm</td>\n",
              "    </tr>\n",
              "    <tr>\n",
              "      <th>4</th>\n",
              "      <td>https://twitter.com/NewsOfAmerica4/status/1467...</td>\n",
              "      <td>2021-12-05 12:51:01+00:00</td>\n",
              "      <td>Covid-19 Australia: Victoria and NSW keep bord...</td>\n",
              "      <td>1467476605522124809</td>\n",
              "      <td>NewsOfAmerica4</td>\n",
              "      <td>[https://usmail24.com/covid-19-australia-victo...</td>\n",
              "      <td>https://usmail24.com/covid-19-australia-victor...</td>\n",
              "      <td>[https://t.co/8oQjLQ71sa]</td>\n",
              "      <td>https://t.co/8oQjLQ71sa</td>\n",
              "    </tr>\n",
              "    <tr>\n",
              "      <th>...</th>\n",
              "      <td>...</td>\n",
              "      <td>...</td>\n",
              "      <td>...</td>\n",
              "      <td>...</td>\n",
              "      <td>...</td>\n",
              "      <td>...</td>\n",
              "      <td>...</td>\n",
              "      <td>...</td>\n",
              "      <td>...</td>\n",
              "    </tr>\n",
              "    <tr>\n",
              "      <th>19995</th>\n",
              "      <td>https://twitter.com/RossaMullin/status/1463550...</td>\n",
              "      <td>2021-11-24 16:52:04+00:00</td>\n",
              "      <td>@simoncoveney @dfatirl @AusEmbIre \\nThese incl...</td>\n",
              "      <td>1463550999558246407</td>\n",
              "      <td>RossaMullin</td>\n",
              "      <td>[https://twitter.com/UK__Citizen/status/146343...</td>\n",
              "      <td>https://twitter.com/UK__Citizen/status/1463439...</td>\n",
              "      <td>[https://t.co/d3YislNLhb]</td>\n",
              "      <td>https://t.co/d3YislNLhb</td>\n",
              "    </tr>\n",
              "    <tr>\n",
              "      <th>19996</th>\n",
              "      <td>https://twitter.com/spurstony1979/status/14635...</td>\n",
              "      <td>2021-11-24 16:51:27+00:00</td>\n",
              "      <td>People can you please look at what is going on...</td>\n",
              "      <td>1463550846243852288</td>\n",
              "      <td>spurstony1979</td>\n",
              "      <td>[]</td>\n",
              "      <td></td>\n",
              "      <td>[]</td>\n",
              "      <td></td>\n",
              "    </tr>\n",
              "    <tr>\n",
              "      <th>19997</th>\n",
              "      <td>https://twitter.com/MarioGonGuti/status/146355...</td>\n",
              "      <td>2021-11-24 16:51:17+00:00</td>\n",
              "      <td>«Podríamos decir que el hombre Covid pasa de e...</td>\n",
              "      <td>1463550801226485768</td>\n",
              "      <td>MarioGonGuti</td>\n",
              "      <td>[https://www.hispanidad.com/sociedad/diario-pa...</td>\n",
              "      <td>https://www.hispanidad.com/sociedad/diario-pan...</td>\n",
              "      <td>[https://t.co/fzzCsKFEyI]</td>\n",
              "      <td>https://t.co/fzzCsKFEyI</td>\n",
              "    </tr>\n",
              "    <tr>\n",
              "      <th>19998</th>\n",
              "      <td>https://twitter.com/July91434885/status/146354...</td>\n",
              "      <td>2021-11-24 16:46:41+00:00</td>\n",
              "      <td>@alsnig Te comparto información de un chino. E...</td>\n",
              "      <td>1463549643191734277</td>\n",
              "      <td>July91434885</td>\n",
              "      <td>[https://twitter.com/songpinganq/status/142955...</td>\n",
              "      <td>https://twitter.com/songpinganq/status/1429558...</td>\n",
              "      <td>[https://t.co/mjk1naj7ZW]</td>\n",
              "      <td>https://t.co/mjk1naj7ZW</td>\n",
              "    </tr>\n",
              "    <tr>\n",
              "      <th>19999</th>\n",
              "      <td>https://twitter.com/66michaelr/status/14635494...</td>\n",
              "      <td>2021-11-24 16:45:51+00:00</td>\n",
              "      <td>@GroundedKiwis @romulunz Here’s Australia righ...</td>\n",
              "      <td>1463549435485425664</td>\n",
              "      <td>66michaelr</td>\n",
              "      <td>[https://www.interstatequarantine.org.au/state...</td>\n",
              "      <td>https://www.interstatequarantine.org.au/state-...</td>\n",
              "      <td>[https://t.co/hDZCPavmgt]</td>\n",
              "      <td>https://t.co/hDZCPavmgt</td>\n",
              "    </tr>\n",
              "  </tbody>\n",
              "</table>\n",
              "<p>20000 rows × 9 columns</p>\n",
              "</div>"
            ],
            "text/plain": [
              "                                                     url  ...            tcooutlinksss\n",
              "0      https://twitter.com/SMorganGrahame/status/1467...  ...                         \n",
              "1      https://twitter.com/JosephMIFSUD206/status/146...  ...  https://t.co/ShDkJ4qGjV\n",
              "2      https://twitter.com/dailymail241/status/146747...  ...  https://t.co/KLSQj8PLXJ\n",
              "3      https://twitter.com/usmail24/status/1467476708...  ...  https://t.co/GSjW2J7cjm\n",
              "4      https://twitter.com/NewsOfAmerica4/status/1467...  ...  https://t.co/8oQjLQ71sa\n",
              "...                                                  ...  ...                      ...\n",
              "19995  https://twitter.com/RossaMullin/status/1463550...  ...  https://t.co/d3YislNLhb\n",
              "19996  https://twitter.com/spurstony1979/status/14635...  ...                         \n",
              "19997  https://twitter.com/MarioGonGuti/status/146355...  ...  https://t.co/fzzCsKFEyI\n",
              "19998  https://twitter.com/July91434885/status/146354...  ...  https://t.co/mjk1naj7ZW\n",
              "19999  https://twitter.com/66michaelr/status/14635494...  ...  https://t.co/hDZCPavmgt\n",
              "\n",
              "[20000 rows x 9 columns]"
            ]
          },
          "metadata": {}
        }
      ]
    },
    {
      "cell_type": "code",
      "metadata": {
        "colab": {
          "base_uri": "https://localhost:8080/"
        },
        "id": "cmhoeX2T7NNp",
        "outputId": "684bfe35-8139-4066-f77b-be4ab027941c"
      },
      "source": [
        "# Display the columns of the tweets dataframe\n",
        "\n",
        "tweets_df.info()"
      ],
      "execution_count": null,
      "outputs": [
        {
          "output_type": "stream",
          "name": "stdout",
          "text": [
            "<class 'pandas.core.frame.DataFrame'>\n",
            "RangeIndex: 20000 entries, 0 to 19999\n",
            "Data columns (total 9 columns):\n",
            " #   Column         Non-Null Count  Dtype              \n",
            "---  ------         --------------  -----              \n",
            " 0   url            20000 non-null  object             \n",
            " 1   date           20000 non-null  datetime64[ns, UTC]\n",
            " 2   content        20000 non-null  object             \n",
            " 3   id             20000 non-null  int64              \n",
            " 4   username       20000 non-null  object             \n",
            " 5   outlinks       20000 non-null  object             \n",
            " 6   outlinksss     20000 non-null  object             \n",
            " 7   tcooutlinks    20000 non-null  object             \n",
            " 8   tcooutlinksss  20000 non-null  object             \n",
            "dtypes: datetime64[ns, UTC](1), int64(1), object(7)\n",
            "memory usage: 1.4+ MB\n"
          ]
        }
      ]
    },
    {
      "cell_type": "code",
      "metadata": {
        "id": "-AR_Tkbt4jcv"
      },
      "source": [
        "# Export tweets dataframe to csv for future use\n",
        "\n",
        "tweets_df.to_csv('tweets_dataframe_20211205')"
      ],
      "execution_count": null,
      "outputs": []
    },
    {
      "cell_type": "code",
      "metadata": {
        "id": "FEPHKbSrDHm5",
        "colab": {
          "resources": {
            "http://localhost:8080/nbextensions/google.colab/files.js": {
              "data": "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",
              "ok": true,
              "headers": [
                [
                  "content-type",
                  "application/javascript"
                ]
              ],
              "status": 200,
              "status_text": ""
            }
          },
          "base_uri": "https://localhost:8080/",
          "height": 74
        },
        "outputId": "ec5161cc-1de3-443c-a8bc-421d1377b338"
      },
      "source": [
        "# Upload previously saved tweets dataframe to avoid re-extraction\n",
        "\n",
        "uploaded_tweets = files.upload()"
      ],
      "execution_count": 3,
      "outputs": [
        {
          "output_type": "display_data",
          "data": {
            "text/html": [
              "\n",
              "     <input type=\"file\" id=\"files-652afeef-bb86-4b3b-82b3-097e07c3eb11\" name=\"files[]\" multiple disabled\n",
              "        style=\"border:none\" />\n",
              "     <output id=\"result-652afeef-bb86-4b3b-82b3-097e07c3eb11\">\n",
              "      Upload widget is only available when the cell has been executed in the\n",
              "      current browser session. Please rerun this cell to enable.\n",
              "      </output>\n",
              "      <script src=\"/nbextensions/google.colab/files.js\"></script> "
            ],
            "text/plain": [
              "<IPython.core.display.HTML object>"
            ]
          },
          "metadata": {}
        },
        {
          "output_type": "stream",
          "name": "stdout",
          "text": [
            "Saving tweets_dataframe_20211205.csv to tweets_dataframe_20211205.csv\n"
          ]
        }
      ]
    },
    {
      "cell_type": "code",
      "metadata": {
        "id": "80hOa6mEDND8",
        "colab": {
          "base_uri": "https://localhost:8080/",
          "height": 981
        },
        "outputId": "bcce35e4-f2ee-4277-9b8c-1118dc901b6c"
      },
      "source": [
        "# Load previously saved data into dataframe\n",
        "\n",
        "tweets_df = pd.read_csv(io.BytesIO(uploaded_tweets['tweets_dataframe_20211205.csv']))\n",
        "\n",
        "# Check the data has been loaded correctly\n",
        "\n",
        "display(tweets_df)"
      ],
      "execution_count": 4,
      "outputs": [
        {
          "output_type": "display_data",
          "data": {
            "text/html": [
              "<div>\n",
              "<style scoped>\n",
              "    .dataframe tbody tr th:only-of-type {\n",
              "        vertical-align: middle;\n",
              "    }\n",
              "\n",
              "    .dataframe tbody tr th {\n",
              "        vertical-align: top;\n",
              "    }\n",
              "\n",
              "    .dataframe thead th {\n",
              "        text-align: right;\n",
              "    }\n",
              "</style>\n",
              "<table border=\"1\" class=\"dataframe\">\n",
              "  <thead>\n",
              "    <tr style=\"text-align: right;\">\n",
              "      <th></th>\n",
              "      <th>Unnamed: 0</th>\n",
              "      <th>url</th>\n",
              "      <th>date</th>\n",
              "      <th>content</th>\n",
              "      <th>id</th>\n",
              "      <th>username</th>\n",
              "      <th>outlinks</th>\n",
              "      <th>outlinksss</th>\n",
              "      <th>tcooutlinks</th>\n",
              "      <th>tcooutlinksss</th>\n",
              "    </tr>\n",
              "  </thead>\n",
              "  <tbody>\n",
              "    <tr>\n",
              "      <th>0</th>\n",
              "      <td>0</td>\n",
              "      <td>https://twitter.com/SMorganGrahame/status/1467...</td>\n",
              "      <td>2021-12-05 12:51:53+00:00</td>\n",
              "      <td>It’s taken a lot but @RemyMoynes and I are alm...</td>\n",
              "      <td>1467476823227265031</td>\n",
              "      <td>SMorganGrahame</td>\n",
              "      <td>[]</td>\n",
              "      <td>NaN</td>\n",
              "      <td>[]</td>\n",
              "      <td>NaN</td>\n",
              "    </tr>\n",
              "    <tr>\n",
              "      <th>1</th>\n",
              "      <td>1</td>\n",
              "      <td>https://twitter.com/JosephMIFSUD206/status/146...</td>\n",
              "      <td>2021-12-05 12:51:32+00:00</td>\n",
              "      <td>Australia: Protesters swarm Melbourne streets ...</td>\n",
              "      <td>1467476733377007619</td>\n",
              "      <td>JosephMIFSUD206</td>\n",
              "      <td>['https://youtu.be/9O7CMDouJhc']</td>\n",
              "      <td>https://youtu.be/9O7CMDouJhc</td>\n",
              "      <td>['https://t.co/ShDkJ4qGjV']</td>\n",
              "      <td>https://t.co/ShDkJ4qGjV</td>\n",
              "    </tr>\n",
              "    <tr>\n",
              "      <th>2</th>\n",
              "      <td>2</td>\n",
              "      <td>https://twitter.com/dailymail241/status/146747...</td>\n",
              "      <td>2021-12-05 12:51:27+00:00</td>\n",
              "      <td>Covid-19 Australia: Victoria and NSW keep bord...</td>\n",
              "      <td>1467476711923240967</td>\n",
              "      <td>dailymail241</td>\n",
              "      <td>['https://usmail24.com/covid-19-australia-vict...</td>\n",
              "      <td>https://usmail24.com/covid-19-australia-victor...</td>\n",
              "      <td>['https://t.co/KLSQj8PLXJ']</td>\n",
              "      <td>https://t.co/KLSQj8PLXJ</td>\n",
              "    </tr>\n",
              "    <tr>\n",
              "      <th>3</th>\n",
              "      <td>3</td>\n",
              "      <td>https://twitter.com/usmail24/status/1467476708...</td>\n",
              "      <td>2021-12-05 12:51:26+00:00</td>\n",
              "      <td>Covid-19 Australia: Victoria and NSW keep bord...</td>\n",
              "      <td>1467476708873879569</td>\n",
              "      <td>usmail24</td>\n",
              "      <td>['https://usmail24.com/covid-19-australia-vict...</td>\n",
              "      <td>https://usmail24.com/covid-19-australia-victor...</td>\n",
              "      <td>['https://t.co/GSjW2J7cjm']</td>\n",
              "      <td>https://t.co/GSjW2J7cjm</td>\n",
              "    </tr>\n",
              "    <tr>\n",
              "      <th>4</th>\n",
              "      <td>4</td>\n",
              "      <td>https://twitter.com/NewsOfAmerica4/status/1467...</td>\n",
              "      <td>2021-12-05 12:51:01+00:00</td>\n",
              "      <td>Covid-19 Australia: Victoria and NSW keep bord...</td>\n",
              "      <td>1467476605522124809</td>\n",
              "      <td>NewsOfAmerica4</td>\n",
              "      <td>['https://usmail24.com/covid-19-australia-vict...</td>\n",
              "      <td>https://usmail24.com/covid-19-australia-victor...</td>\n",
              "      <td>['https://t.co/8oQjLQ71sa']</td>\n",
              "      <td>https://t.co/8oQjLQ71sa</td>\n",
              "    </tr>\n",
              "    <tr>\n",
              "      <th>...</th>\n",
              "      <td>...</td>\n",
              "      <td>...</td>\n",
              "      <td>...</td>\n",
              "      <td>...</td>\n",
              "      <td>...</td>\n",
              "      <td>...</td>\n",
              "      <td>...</td>\n",
              "      <td>...</td>\n",
              "      <td>...</td>\n",
              "      <td>...</td>\n",
              "    </tr>\n",
              "    <tr>\n",
              "      <th>19995</th>\n",
              "      <td>19995</td>\n",
              "      <td>https://twitter.com/RossaMullin/status/1463550...</td>\n",
              "      <td>2021-11-24 16:52:04+00:00</td>\n",
              "      <td>@simoncoveney @dfatirl @AusEmbIre \\nThese incl...</td>\n",
              "      <td>1463550999558246407</td>\n",
              "      <td>RossaMullin</td>\n",
              "      <td>['https://twitter.com/UK__Citizen/status/14634...</td>\n",
              "      <td>https://twitter.com/UK__Citizen/status/1463439...</td>\n",
              "      <td>['https://t.co/d3YislNLhb']</td>\n",
              "      <td>https://t.co/d3YislNLhb</td>\n",
              "    </tr>\n",
              "    <tr>\n",
              "      <th>19996</th>\n",
              "      <td>19996</td>\n",
              "      <td>https://twitter.com/spurstony1979/status/14635...</td>\n",
              "      <td>2021-11-24 16:51:27+00:00</td>\n",
              "      <td>People can you please look at what is going on...</td>\n",
              "      <td>1463550846243852288</td>\n",
              "      <td>spurstony1979</td>\n",
              "      <td>[]</td>\n",
              "      <td>NaN</td>\n",
              "      <td>[]</td>\n",
              "      <td>NaN</td>\n",
              "    </tr>\n",
              "    <tr>\n",
              "      <th>19997</th>\n",
              "      <td>19997</td>\n",
              "      <td>https://twitter.com/MarioGonGuti/status/146355...</td>\n",
              "      <td>2021-11-24 16:51:17+00:00</td>\n",
              "      <td>«Podríamos decir que el hombre Covid pasa de e...</td>\n",
              "      <td>1463550801226485768</td>\n",
              "      <td>MarioGonGuti</td>\n",
              "      <td>['https://www.hispanidad.com/sociedad/diario-p...</td>\n",
              "      <td>https://www.hispanidad.com/sociedad/diario-pan...</td>\n",
              "      <td>['https://t.co/fzzCsKFEyI']</td>\n",
              "      <td>https://t.co/fzzCsKFEyI</td>\n",
              "    </tr>\n",
              "    <tr>\n",
              "      <th>19998</th>\n",
              "      <td>19998</td>\n",
              "      <td>https://twitter.com/July91434885/status/146354...</td>\n",
              "      <td>2021-11-24 16:46:41+00:00</td>\n",
              "      <td>@alsnig Te comparto información de un chino. E...</td>\n",
              "      <td>1463549643191734277</td>\n",
              "      <td>July91434885</td>\n",
              "      <td>['https://twitter.com/songpinganq/status/14295...</td>\n",
              "      <td>https://twitter.com/songpinganq/status/1429558...</td>\n",
              "      <td>['https://t.co/mjk1naj7ZW']</td>\n",
              "      <td>https://t.co/mjk1naj7ZW</td>\n",
              "    </tr>\n",
              "    <tr>\n",
              "      <th>19999</th>\n",
              "      <td>19999</td>\n",
              "      <td>https://twitter.com/66michaelr/status/14635494...</td>\n",
              "      <td>2021-11-24 16:45:51+00:00</td>\n",
              "      <td>@GroundedKiwis @romulunz Here’s Australia righ...</td>\n",
              "      <td>1463549435485425664</td>\n",
              "      <td>66michaelr</td>\n",
              "      <td>['https://www.interstatequarantine.org.au/stat...</td>\n",
              "      <td>https://www.interstatequarantine.org.au/state-...</td>\n",
              "      <td>['https://t.co/hDZCPavmgt']</td>\n",
              "      <td>https://t.co/hDZCPavmgt</td>\n",
              "    </tr>\n",
              "  </tbody>\n",
              "</table>\n",
              "<p>20000 rows × 10 columns</p>\n",
              "</div>"
            ],
            "text/plain": [
              "       Unnamed: 0  ...            tcooutlinksss\n",
              "0               0  ...                      NaN\n",
              "1               1  ...  https://t.co/ShDkJ4qGjV\n",
              "2               2  ...  https://t.co/KLSQj8PLXJ\n",
              "3               3  ...  https://t.co/GSjW2J7cjm\n",
              "4               4  ...  https://t.co/8oQjLQ71sa\n",
              "...           ...  ...                      ...\n",
              "19995       19995  ...  https://t.co/d3YislNLhb\n",
              "19996       19996  ...                      NaN\n",
              "19997       19997  ...  https://t.co/fzzCsKFEyI\n",
              "19998       19998  ...  https://t.co/mjk1naj7ZW\n",
              "19999       19999  ...  https://t.co/hDZCPavmgt\n",
              "\n",
              "[20000 rows x 10 columns]"
            ]
          },
          "metadata": {}
        }
      ]
    },
    {
      "cell_type": "markdown",
      "metadata": {
        "id": "-isdkp547jcd"
      },
      "source": [
        "# **Section 1b - Load metadata of Australian Government Twitter accounts**"
      ]
    },
    {
      "cell_type": "code",
      "metadata": {
        "id": "vvebXIoO4YIZ"
      },
      "source": [
        "# Import packages\n",
        "\n",
        "import requests"
      ],
      "execution_count": 5,
      "outputs": []
    },
    {
      "cell_type": "code",
      "metadata": {
        "colab": {
          "base_uri": "https://localhost:8080/"
        },
        "id": "SElvftvJ8b_E",
        "outputId": "08d3132b-dc26-427a-876f-9bc09e2a33df"
      },
      "source": [
        "# Check the status code of the metadata data.gov.au\n",
        "\n",
        "url = 'https://data.gov.au/dataset/699cfc1f-ae4c-4968-bddd-ef309e163bba/resource/21319050-8ab2-446e-be17-59570d3fa891/download/Twitter-Followers-2016-01-05.csv'\n",
        "response = requests.get(url)\n",
        "print(response.status_code)"
      ],
      "execution_count": null,
      "outputs": [
        {
          "output_type": "stream",
          "name": "stdout",
          "text": [
            "200\n"
          ]
        }
      ]
    },
    {
      "cell_type": "code",
      "metadata": {
        "colab": {
          "base_uri": "https://localhost:8080/",
          "height": 423
        },
        "id": "Ti_3-mhF8rbY",
        "outputId": "d12a3c61-362d-4041-e543-b50bcb932811"
      },
      "source": [
        "# Save the metadata into a dataframe\n",
        "\n",
        "request = requests.get(url).content\n",
        "govt_twitter_df = pd.read_csv(io.StringIO(request.decode('utf-8')))\n",
        "\n",
        "# Check the metadata has been loaded correctly\n",
        "\n",
        "display(govt_twitter_df)"
      ],
      "execution_count": null,
      "outputs": [
        {
          "output_type": "display_data",
          "data": {
            "text/html": [
              "<div>\n",
              "<style scoped>\n",
              "    .dataframe tbody tr th:only-of-type {\n",
              "        vertical-align: middle;\n",
              "    }\n",
              "\n",
              "    .dataframe tbody tr th {\n",
              "        vertical-align: top;\n",
              "    }\n",
              "\n",
              "    .dataframe thead th {\n",
              "        text-align: right;\n",
              "    }\n",
              "</style>\n",
              "<table border=\"1\" class=\"dataframe\">\n",
              "  <thead>\n",
              "    <tr style=\"text-align: right;\">\n",
              "      <th></th>\n",
              "      <th>Month</th>\n",
              "      <th>Year</th>\n",
              "      <th>Twitter</th>\n",
              "      <th>Display Name</th>\n",
              "      <th>Verified</th>\n",
              "      <th>End of Month Followers</th>\n",
              "      <th>Tweets</th>\n",
              "      <th>Total Times Retweeted</th>\n",
              "      <th>Others Retweeted</th>\n",
              "      <th>Total Times Favourited</th>\n",
              "      <th>Times Other User Mentioned</th>\n",
              "    </tr>\n",
              "  </thead>\n",
              "  <tbody>\n",
              "    <tr>\n",
              "      <th>0</th>\n",
              "      <td>12</td>\n",
              "      <td>2015</td>\n",
              "      <td>@Australia</td>\n",
              "      <td>Australia</td>\n",
              "      <td>1</td>\n",
              "      <td>284203</td>\n",
              "      <td>160</td>\n",
              "      <td>14886</td>\n",
              "      <td>22</td>\n",
              "      <td>31252</td>\n",
              "      <td>138</td>\n",
              "    </tr>\n",
              "    <tr>\n",
              "      <th>1</th>\n",
              "      <td>12</td>\n",
              "      <td>2015</td>\n",
              "      <td>@artsculturegov</td>\n",
              "      <td>AusGov Arts&amp;Culture</td>\n",
              "      <td>1</td>\n",
              "      <td>123571</td>\n",
              "      <td>66</td>\n",
              "      <td>179</td>\n",
              "      <td>39</td>\n",
              "      <td>142</td>\n",
              "      <td>21</td>\n",
              "    </tr>\n",
              "    <tr>\n",
              "      <th>2</th>\n",
              "      <td>12</td>\n",
              "      <td>2015</td>\n",
              "      <td>@TourismAus</td>\n",
              "      <td>Tourism Australia</td>\n",
              "      <td>1</td>\n",
              "      <td>92479</td>\n",
              "      <td>87</td>\n",
              "      <td>570</td>\n",
              "      <td>18</td>\n",
              "      <td>683</td>\n",
              "      <td>84</td>\n",
              "    </tr>\n",
              "    <tr>\n",
              "      <th>3</th>\n",
              "      <td>12</td>\n",
              "      <td>2015</td>\n",
              "      <td>@headspace_aus</td>\n",
              "      <td>headspace</td>\n",
              "      <td>1</td>\n",
              "      <td>54000</td>\n",
              "      <td>47</td>\n",
              "      <td>229</td>\n",
              "      <td>18</td>\n",
              "      <td>246</td>\n",
              "      <td>22</td>\n",
              "    </tr>\n",
              "    <tr>\n",
              "      <th>4</th>\n",
              "      <td>12</td>\n",
              "      <td>2015</td>\n",
              "      <td>@BOM_Qld</td>\n",
              "      <td>BOM Queensland</td>\n",
              "      <td>1</td>\n",
              "      <td>50790</td>\n",
              "      <td>74</td>\n",
              "      <td>509</td>\n",
              "      <td>9</td>\n",
              "      <td>349</td>\n",
              "      <td>3</td>\n",
              "    </tr>\n",
              "    <tr>\n",
              "      <th>...</th>\n",
              "      <td>...</td>\n",
              "      <td>...</td>\n",
              "      <td>...</td>\n",
              "      <td>...</td>\n",
              "      <td>...</td>\n",
              "      <td>...</td>\n",
              "      <td>...</td>\n",
              "      <td>...</td>\n",
              "      <td>...</td>\n",
              "      <td>...</td>\n",
              "      <td>...</td>\n",
              "    </tr>\n",
              "    <tr>\n",
              "      <th>219</th>\n",
              "      <td>12</td>\n",
              "      <td>2015</td>\n",
              "      <td>@sosrExchange</td>\n",
              "      <td>State of the Service</td>\n",
              "      <td>0</td>\n",
              "      <td>220</td>\n",
              "      <td>6</td>\n",
              "      <td>2</td>\n",
              "      <td>0</td>\n",
              "      <td>1</td>\n",
              "      <td>3</td>\n",
              "    </tr>\n",
              "    <tr>\n",
              "      <th>220</th>\n",
              "      <td>12</td>\n",
              "      <td>2015</td>\n",
              "      <td>@JohnLloyd_APSC</td>\n",
              "      <td>John Lloyd</td>\n",
              "      <td>1</td>\n",
              "      <td>158</td>\n",
              "      <td>5</td>\n",
              "      <td>1</td>\n",
              "      <td>0</td>\n",
              "      <td>5</td>\n",
              "      <td>0</td>\n",
              "    </tr>\n",
              "    <tr>\n",
              "      <th>221</th>\n",
              "      <td>12</td>\n",
              "      <td>2015</td>\n",
              "      <td>@DFATNT</td>\n",
              "      <td>Lorenzo Strano</td>\n",
              "      <td>1</td>\n",
              "      <td>149</td>\n",
              "      <td>14</td>\n",
              "      <td>11</td>\n",
              "      <td>4</td>\n",
              "      <td>16</td>\n",
              "      <td>13</td>\n",
              "    </tr>\n",
              "    <tr>\n",
              "      <th>222</th>\n",
              "      <td>12</td>\n",
              "      <td>2015</td>\n",
              "      <td>@Gov_Share</td>\n",
              "      <td>GovShare</td>\n",
              "      <td>1</td>\n",
              "      <td>148</td>\n",
              "      <td>0</td>\n",
              "      <td>0</td>\n",
              "      <td>0</td>\n",
              "      <td>0</td>\n",
              "      <td>0</td>\n",
              "    </tr>\n",
              "    <tr>\n",
              "      <th>223</th>\n",
              "      <td>12</td>\n",
              "      <td>2015</td>\n",
              "      <td>@GeoAusLibrary</td>\n",
              "      <td>GeoscienceAusLibrary</td>\n",
              "      <td>0</td>\n",
              "      <td>115</td>\n",
              "      <td>11</td>\n",
              "      <td>0</td>\n",
              "      <td>7</td>\n",
              "      <td>1</td>\n",
              "      <td>2</td>\n",
              "    </tr>\n",
              "  </tbody>\n",
              "</table>\n",
              "<p>224 rows × 11 columns</p>\n",
              "</div>"
            ],
            "text/plain": [
              "     Month  Year  ... Total Times Favourited Times Other User Mentioned\n",
              "0       12  2015  ...                  31252                        138\n",
              "1       12  2015  ...                    142                         21\n",
              "2       12  2015  ...                    683                         84\n",
              "3       12  2015  ...                    246                         22\n",
              "4       12  2015  ...                    349                          3\n",
              "..     ...   ...  ...                    ...                        ...\n",
              "219     12  2015  ...                      1                          3\n",
              "220     12  2015  ...                      5                          0\n",
              "221     12  2015  ...                     16                         13\n",
              "222     12  2015  ...                      0                          0\n",
              "223     12  2015  ...                      1                          2\n",
              "\n",
              "[224 rows x 11 columns]"
            ]
          },
          "metadata": {}
        }
      ]
    },
    {
      "cell_type": "code",
      "metadata": {
        "id": "kckLQh6FgeAY"
      },
      "source": [
        "# Export metadata to csv for future use\n",
        "\n",
        "govt_twitter_df.to_csv('Twitter-Followers-2016-01-05')"
      ],
      "execution_count": null,
      "outputs": []
    },
    {
      "cell_type": "code",
      "metadata": {
        "id": "Mj5LrOjYgphZ",
        "colab": {
          "resources": {
            "http://localhost:8080/nbextensions/google.colab/files.js": {
              "data": "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",
              "ok": true,
              "headers": [
                [
                  "content-type",
                  "application/javascript"
                ]
              ],
              "status": 200,
              "status_text": ""
            }
          },
          "base_uri": "https://localhost:8080/",
          "height": 74
        },
        "outputId": "82b502ab-c3f5-4996-c246-e94aafb94f98"
      },
      "source": [
        "# Upload previously saved metadata dataframe to avoid re-extraction\n",
        "\n",
        "uploaded_metadata = files.upload()"
      ],
      "execution_count": 6,
      "outputs": [
        {
          "output_type": "display_data",
          "data": {
            "text/html": [
              "\n",
              "     <input type=\"file\" id=\"files-a541c2de-a1cc-420e-9958-813908c8fe05\" name=\"files[]\" multiple disabled\n",
              "        style=\"border:none\" />\n",
              "     <output id=\"result-a541c2de-a1cc-420e-9958-813908c8fe05\">\n",
              "      Upload widget is only available when the cell has been executed in the\n",
              "      current browser session. Please rerun this cell to enable.\n",
              "      </output>\n",
              "      <script src=\"/nbextensions/google.colab/files.js\"></script> "
            ],
            "text/plain": [
              "<IPython.core.display.HTML object>"
            ]
          },
          "metadata": {}
        },
        {
          "output_type": "stream",
          "name": "stdout",
          "text": [
            "Saving Twitter-Followers-2016-01-05.csv to Twitter-Followers-2016-01-05.csv\n"
          ]
        }
      ]
    },
    {
      "cell_type": "code",
      "metadata": {
        "id": "tzZUHRMQg5cF",
        "colab": {
          "base_uri": "https://localhost:8080/",
          "height": 423
        },
        "outputId": "6fe113bd-9016-4e0a-e853-679d7c0650fc"
      },
      "source": [
        "# Load previously saved metadata into dataframe\n",
        "\n",
        "govt_twitter_df = pd.read_csv(io.BytesIO(uploaded_metadata['Twitter-Followers-2016-01-05.csv']))\n",
        "\n",
        "# Check the data has been loaded correctly\n",
        "\n",
        "display(govt_twitter_df)"
      ],
      "execution_count": 7,
      "outputs": [
        {
          "output_type": "display_data",
          "data": {
            "text/html": [
              "<div>\n",
              "<style scoped>\n",
              "    .dataframe tbody tr th:only-of-type {\n",
              "        vertical-align: middle;\n",
              "    }\n",
              "\n",
              "    .dataframe tbody tr th {\n",
              "        vertical-align: top;\n",
              "    }\n",
              "\n",
              "    .dataframe thead th {\n",
              "        text-align: right;\n",
              "    }\n",
              "</style>\n",
              "<table border=\"1\" class=\"dataframe\">\n",
              "  <thead>\n",
              "    <tr style=\"text-align: right;\">\n",
              "      <th></th>\n",
              "      <th>Month</th>\n",
              "      <th>Year</th>\n",
              "      <th>Twitter</th>\n",
              "      <th>Display Name</th>\n",
              "      <th>Verified</th>\n",
              "      <th>End of Month Followers</th>\n",
              "      <th>Tweets</th>\n",
              "      <th>Total Times Retweeted</th>\n",
              "      <th>Others Retweeted</th>\n",
              "      <th>Total Times Favourited</th>\n",
              "      <th>Times Other User Mentioned</th>\n",
              "    </tr>\n",
              "  </thead>\n",
              "  <tbody>\n",
              "    <tr>\n",
              "      <th>0</th>\n",
              "      <td>12</td>\n",
              "      <td>2015</td>\n",
              "      <td>@Australia</td>\n",
              "      <td>Australia</td>\n",
              "      <td>1</td>\n",
              "      <td>284203</td>\n",
              "      <td>160</td>\n",
              "      <td>14886</td>\n",
              "      <td>22</td>\n",
              "      <td>31252</td>\n",
              "      <td>138</td>\n",
              "    </tr>\n",
              "    <tr>\n",
              "      <th>1</th>\n",
              "      <td>12</td>\n",
              "      <td>2015</td>\n",
              "      <td>@artsculturegov</td>\n",
              "      <td>AusGov Arts&amp;Culture</td>\n",
              "      <td>1</td>\n",
              "      <td>123571</td>\n",
              "      <td>66</td>\n",
              "      <td>179</td>\n",
              "      <td>39</td>\n",
              "      <td>142</td>\n",
              "      <td>21</td>\n",
              "    </tr>\n",
              "    <tr>\n",
              "      <th>2</th>\n",
              "      <td>12</td>\n",
              "      <td>2015</td>\n",
              "      <td>@TourismAus</td>\n",
              "      <td>Tourism Australia</td>\n",
              "      <td>1</td>\n",
              "      <td>92479</td>\n",
              "      <td>87</td>\n",
              "      <td>570</td>\n",
              "      <td>18</td>\n",
              "      <td>683</td>\n",
              "      <td>84</td>\n",
              "    </tr>\n",
              "    <tr>\n",
              "      <th>3</th>\n",
              "      <td>12</td>\n",
              "      <td>2015</td>\n",
              "      <td>@headspace_aus</td>\n",
              "      <td>headspace</td>\n",
              "      <td>1</td>\n",
              "      <td>54000</td>\n",
              "      <td>47</td>\n",
              "      <td>229</td>\n",
              "      <td>18</td>\n",
              "      <td>246</td>\n",
              "      <td>22</td>\n",
              "    </tr>\n",
              "    <tr>\n",
              "      <th>4</th>\n",
              "      <td>12</td>\n",
              "      <td>2015</td>\n",
              "      <td>@BOM_Qld</td>\n",
              "      <td>BOM Queensland</td>\n",
              "      <td>1</td>\n",
              "      <td>50790</td>\n",
              "      <td>74</td>\n",
              "      <td>509</td>\n",
              "      <td>9</td>\n",
              "      <td>349</td>\n",
              "      <td>3</td>\n",
              "    </tr>\n",
              "    <tr>\n",
              "      <th>...</th>\n",
              "      <td>...</td>\n",
              "      <td>...</td>\n",
              "      <td>...</td>\n",
              "      <td>...</td>\n",
              "      <td>...</td>\n",
              "      <td>...</td>\n",
              "      <td>...</td>\n",
              "      <td>...</td>\n",
              "      <td>...</td>\n",
              "      <td>...</td>\n",
              "      <td>...</td>\n",
              "    </tr>\n",
              "    <tr>\n",
              "      <th>219</th>\n",
              "      <td>12</td>\n",
              "      <td>2015</td>\n",
              "      <td>@sosrExchange</td>\n",
              "      <td>State of the Service</td>\n",
              "      <td>0</td>\n",
              "      <td>220</td>\n",
              "      <td>6</td>\n",
              "      <td>2</td>\n",
              "      <td>0</td>\n",
              "      <td>1</td>\n",
              "      <td>3</td>\n",
              "    </tr>\n",
              "    <tr>\n",
              "      <th>220</th>\n",
              "      <td>12</td>\n",
              "      <td>2015</td>\n",
              "      <td>@JohnLloyd_APSC</td>\n",
              "      <td>John Lloyd</td>\n",
              "      <td>1</td>\n",
              "      <td>158</td>\n",
              "      <td>5</td>\n",
              "      <td>1</td>\n",
              "      <td>0</td>\n",
              "      <td>5</td>\n",
              "      <td>0</td>\n",
              "    </tr>\n",
              "    <tr>\n",
              "      <th>221</th>\n",
              "      <td>12</td>\n",
              "      <td>2015</td>\n",
              "      <td>@DFATNT</td>\n",
              "      <td>Lorenzo Strano</td>\n",
              "      <td>1</td>\n",
              "      <td>149</td>\n",
              "      <td>14</td>\n",
              "      <td>11</td>\n",
              "      <td>4</td>\n",
              "      <td>16</td>\n",
              "      <td>13</td>\n",
              "    </tr>\n",
              "    <tr>\n",
              "      <th>222</th>\n",
              "      <td>12</td>\n",
              "      <td>2015</td>\n",
              "      <td>@Gov_Share</td>\n",
              "      <td>GovShare</td>\n",
              "      <td>1</td>\n",
              "      <td>148</td>\n",
              "      <td>0</td>\n",
              "      <td>0</td>\n",
              "      <td>0</td>\n",
              "      <td>0</td>\n",
              "      <td>0</td>\n",
              "    </tr>\n",
              "    <tr>\n",
              "      <th>223</th>\n",
              "      <td>12</td>\n",
              "      <td>2015</td>\n",
              "      <td>@GeoAusLibrary</td>\n",
              "      <td>GeoscienceAusLibrary</td>\n",
              "      <td>0</td>\n",
              "      <td>115</td>\n",
              "      <td>11</td>\n",
              "      <td>0</td>\n",
              "      <td>7</td>\n",
              "      <td>1</td>\n",
              "      <td>2</td>\n",
              "    </tr>\n",
              "  </tbody>\n",
              "</table>\n",
              "<p>224 rows × 11 columns</p>\n",
              "</div>"
            ],
            "text/plain": [
              "     Month  Year  ... Total Times Favourited Times Other User Mentioned\n",
              "0       12  2015  ...                  31252                        138\n",
              "1       12  2015  ...                    142                         21\n",
              "2       12  2015  ...                    683                         84\n",
              "3       12  2015  ...                    246                         22\n",
              "4       12  2015  ...                    349                          3\n",
              "..     ...   ...  ...                    ...                        ...\n",
              "219     12  2015  ...                      1                          3\n",
              "220     12  2015  ...                      5                          0\n",
              "221     12  2015  ...                     16                         13\n",
              "222     12  2015  ...                      0                          0\n",
              "223     12  2015  ...                      1                          2\n",
              "\n",
              "[224 rows x 11 columns]"
            ]
          },
          "metadata": {}
        }
      ]
    },
    {
      "cell_type": "markdown",
      "metadata": {
        "id": "MiwhDaY6eRAJ"
      },
      "source": [
        "# **Section 2 - Pre-process Data**"
      ]
    },
    {
      "cell_type": "code",
      "metadata": {
        "colab": {
          "base_uri": "https://localhost:8080/"
        },
        "id": "ajE7DIJdI4GM",
        "outputId": "090519bb-d4dc-4246-f879-45b2c663ab4f"
      },
      "source": [
        "# Import packages\n",
        "\n",
        "import nltk\n",
        "from nltk import sent_tokenize\n",
        "from nltk.tokenize import word_tokenize\n",
        "nltk.download('punkt')\n",
        "from nltk.corpus import stopwords\n",
        "nltk.download('stopwords')\n",
        "from nltk.stem import WordNetLemmatizer, SnowballStemmer\n",
        "from nltk.stem.porter import *\n",
        "nltk.download('wordnet')\n",
        "import numpy as np\n",
        "import matplotlib.pyplot as plt\n",
        "import seaborn as sns\n",
        "import re "
      ],
      "execution_count": 8,
      "outputs": [
        {
          "output_type": "stream",
          "name": "stdout",
          "text": [
            "[nltk_data] Downloading package punkt to /root/nltk_data...\n",
            "[nltk_data]   Unzipping tokenizers/punkt.zip.\n",
            "[nltk_data] Downloading package stopwords to /root/nltk_data...\n",
            "[nltk_data]   Unzipping corpora/stopwords.zip.\n",
            "[nltk_data] Downloading package wordnet to /root/nltk_data...\n",
            "[nltk_data]   Unzipping corpora/wordnet.zip.\n"
          ]
        }
      ]
    },
    {
      "cell_type": "code",
      "metadata": {
        "id": "k_xb9WjceKNi"
      },
      "source": [
        "# Load tweets data frame into a corpus\n",
        "\n",
        "corpus = pd.DataFrame(tweets_df)\n",
        "\n",
        "# Remove hyperlinks from tweets\n",
        "\n",
        "def custom_hyperlink(text):\n",
        "  if not text:\n",
        "    text = ''\n",
        "  return re.sub(r\"http\\S+\", \"\", text)\n",
        "corpus_hyperlink = corpus['content'].apply(custom_hyperlink)\n",
        "\n",
        "# Lemmatize words in tweets\n",
        "\n",
        "def custom_lemmatization(text):\n",
        "  if not text:\n",
        "    text = ''\n",
        "  return WordNetLemmatizer().lemmatize(text, pos='v')\n",
        "corpus_lemmatized = corpus_hyperlink.apply(custom_lemmatization)\n",
        "\n",
        "# Split tweets into words\n",
        "\n",
        "def custom_tokenize(text):\n",
        "  if not text:\n",
        "    text = ''\n",
        "  return word_tokenize(text)\n",
        "corpus_tokenised = corpus_lemmatized.apply(custom_tokenize)\n",
        "\n",
        "# Convert to words in tweets lower case\n",
        "\n",
        "def custom_lower_case(text):\n",
        "  if not text:\n",
        "    text = ''\n",
        "  return [w.lower() for w in text]\n",
        "corpus_lower_case = corpus_tokenised.apply(custom_lower_case)\n",
        "\n",
        "# Remove non-alphabetic characters from tweets\n",
        "\n",
        "def custom_non_alphabetic(text):\n",
        "  if not text:\n",
        "    text = ''\n",
        "  return [word for word in text if word.isalpha()]\n",
        "corpus_alphabetic = corpus_lower_case.apply(custom_non_alphabetic)\n",
        "\n",
        "# Remove stop words \n",
        "\n",
        "def custom_stopwords(text):\n",
        "  if not text:\n",
        "    text = ''\n",
        "  else:\n",
        "    stop_words = set(stopwords.words('english'))\n",
        "  return [w for w in text if not w in stop_words]\n",
        "corpus_no_stopwords = corpus_alphabetic.apply(custom_stopwords)\n",
        "\n",
        "# Create dataframe of ISBN and clean descriptions with no duplicates\n",
        "\n",
        "corpus_cleaned = pd.DataFrame(corpus_no_stopwords)\n",
        "corpus_cleaned_rename = corpus_cleaned.rename(columns = {'content' : 'content_clean'})"
      ],
      "execution_count": 9,
      "outputs": []
    },
    {
      "cell_type": "code",
      "metadata": {
        "colab": {
          "base_uri": "https://localhost:8080/",
          "height": 423
        },
        "id": "KsIUKb0AJyj8",
        "outputId": "07ff1014-ce99-4fa4-88ed-ba28972dc023"
      },
      "source": [
        "# Checked the cleaned tweets\n",
        "\n",
        "display(corpus_cleaned_rename)"
      ],
      "execution_count": 10,
      "outputs": [
        {
          "output_type": "display_data",
          "data": {
            "text/html": [
              "<div>\n",
              "<style scoped>\n",
              "    .dataframe tbody tr th:only-of-type {\n",
              "        vertical-align: middle;\n",
              "    }\n",
              "\n",
              "    .dataframe tbody tr th {\n",
              "        vertical-align: top;\n",
              "    }\n",
              "\n",
              "    .dataframe thead th {\n",
              "        text-align: right;\n",
              "    }\n",
              "</style>\n",
              "<table border=\"1\" class=\"dataframe\">\n",
              "  <thead>\n",
              "    <tr style=\"text-align: right;\">\n",
              "      <th></th>\n",
              "      <th>content_clean</th>\n",
              "    </tr>\n",
              "  </thead>\n",
              "  <tbody>\n",
              "    <tr>\n",
              "      <th>0</th>\n",
              "      <td>[taken, lot, remymoynes, almost, australia, li...</td>\n",
              "    </tr>\n",
              "    <tr>\n",
              "      <th>1</th>\n",
              "      <td>[australia, protesters, swarm, melbourne, stre...</td>\n",
              "    </tr>\n",
              "    <tr>\n",
              "      <th>2</th>\n",
              "      <td>[australia, victoria, nsw, keep, borders, open...</td>\n",
              "    </tr>\n",
              "    <tr>\n",
              "      <th>3</th>\n",
              "      <td>[australia, victoria, nsw, keep, borders, open...</td>\n",
              "    </tr>\n",
              "    <tr>\n",
              "      <th>4</th>\n",
              "      <td>[australia, victoria, nsw, keep, borders, open...</td>\n",
              "    </tr>\n",
              "    <tr>\n",
              "      <th>...</th>\n",
              "      <td>...</td>\n",
              "    </tr>\n",
              "    <tr>\n",
              "      <th>19995</th>\n",
              "      <td>[simoncoveney, dfatirl, ausembire, include, fo...</td>\n",
              "    </tr>\n",
              "    <tr>\n",
              "      <th>19996</th>\n",
              "      <td>[people, please, look, going, australia, time,...</td>\n",
              "    </tr>\n",
              "    <tr>\n",
              "      <th>19997</th>\n",
              "      <td>[podríamos, decir, que, el, hombre, covid, pas...</td>\n",
              "    </tr>\n",
              "    <tr>\n",
              "      <th>19998</th>\n",
              "      <td>[alsnig, te, comparto, información, de, un, ch...</td>\n",
              "    </tr>\n",
              "    <tr>\n",
              "      <th>19999</th>\n",
              "      <td>[groundedkiwis, romulunz, australia, right, no...</td>\n",
              "    </tr>\n",
              "  </tbody>\n",
              "</table>\n",
              "<p>20000 rows × 1 columns</p>\n",
              "</div>"
            ],
            "text/plain": [
              "                                           content_clean\n",
              "0      [taken, lot, remymoynes, almost, australia, li...\n",
              "1      [australia, protesters, swarm, melbourne, stre...\n",
              "2      [australia, victoria, nsw, keep, borders, open...\n",
              "3      [australia, victoria, nsw, keep, borders, open...\n",
              "4      [australia, victoria, nsw, keep, borders, open...\n",
              "...                                                  ...\n",
              "19995  [simoncoveney, dfatirl, ausembire, include, fo...\n",
              "19996  [people, please, look, going, australia, time,...\n",
              "19997  [podríamos, decir, que, el, hombre, covid, pas...\n",
              "19998  [alsnig, te, comparto, información, de, un, ch...\n",
              "19999  [groundedkiwis, romulunz, australia, right, no...\n",
              "\n",
              "[20000 rows x 1 columns]"
            ]
          },
          "metadata": {}
        }
      ]
    },
    {
      "cell_type": "code",
      "metadata": {
        "colab": {
          "base_uri": "https://localhost:8080/"
        },
        "id": "mGpJiQcDc7wN",
        "outputId": "46bd6556-001f-4ef9-f739-d9643e1b9b83"
      },
      "source": [
        "# Count the number of unique words in the list\n",
        "\n",
        "unique_words = corpus_cleaned_rename['content_clean'].explode().nunique()\n",
        "unique_words"
      ],
      "execution_count": 17,
      "outputs": [
        {
          "output_type": "execute_result",
          "data": {
            "text/plain": [
              "31229"
            ]
          },
          "metadata": {},
          "execution_count": 17
        }
      ]
    },
    {
      "cell_type": "code",
      "metadata": {
        "id": "vyb-Y_73jhqc"
      },
      "source": [
        "# Add cleaned tweets back to the main data\n",
        "\n",
        "tweets_df['content_clean'] = np.array(corpus_cleaned_rename)\n",
        "tweets_df['content_clean_str'] = tweets_df['content_clean'].map(str)"
      ],
      "execution_count": 18,
      "outputs": []
    },
    {
      "cell_type": "code",
      "metadata": {
        "colab": {
          "base_uri": "https://localhost:8080/",
          "height": 999
        },
        "id": "BpBT-jXnj4XG",
        "outputId": "b08d03a2-fcf2-45a0-beee-1573e4656b38"
      },
      "source": [
        "# Check the data\n",
        "\n",
        "display(tweets_df)"
      ],
      "execution_count": 19,
      "outputs": [
        {
          "output_type": "display_data",
          "data": {
            "text/html": [
              "<div>\n",
              "<style scoped>\n",
              "    .dataframe tbody tr th:only-of-type {\n",
              "        vertical-align: middle;\n",
              "    }\n",
              "\n",
              "    .dataframe tbody tr th {\n",
              "        vertical-align: top;\n",
              "    }\n",
              "\n",
              "    .dataframe thead th {\n",
              "        text-align: right;\n",
              "    }\n",
              "</style>\n",
              "<table border=\"1\" class=\"dataframe\">\n",
              "  <thead>\n",
              "    <tr style=\"text-align: right;\">\n",
              "      <th></th>\n",
              "      <th>Unnamed: 0</th>\n",
              "      <th>url</th>\n",
              "      <th>date</th>\n",
              "      <th>content</th>\n",
              "      <th>id</th>\n",
              "      <th>username</th>\n",
              "      <th>outlinks</th>\n",
              "      <th>outlinksss</th>\n",
              "      <th>tcooutlinks</th>\n",
              "      <th>tcooutlinksss</th>\n",
              "      <th>content_clean</th>\n",
              "      <th>content_clean_str</th>\n",
              "    </tr>\n",
              "  </thead>\n",
              "  <tbody>\n",
              "    <tr>\n",
              "      <th>0</th>\n",
              "      <td>0</td>\n",
              "      <td>https://twitter.com/SMorganGrahame/status/1467...</td>\n",
              "      <td>2021-12-05 12:51:53+00:00</td>\n",
              "      <td>It’s taken a lot but @RemyMoynes and I are alm...</td>\n",
              "      <td>1467476823227265031</td>\n",
              "      <td>SMorganGrahame</td>\n",
              "      <td>[]</td>\n",
              "      <td>NaN</td>\n",
              "      <td>[]</td>\n",
              "      <td>NaN</td>\n",
              "      <td>[taken, lot, remymoynes, almost, australia, li...</td>\n",
              "      <td>['taken', 'lot', 'remymoynes', 'almost', 'aust...</td>\n",
              "    </tr>\n",
              "    <tr>\n",
              "      <th>1</th>\n",
              "      <td>1</td>\n",
              "      <td>https://twitter.com/JosephMIFSUD206/status/146...</td>\n",
              "      <td>2021-12-05 12:51:32+00:00</td>\n",
              "      <td>Australia: Protesters swarm Melbourne streets ...</td>\n",
              "      <td>1467476733377007619</td>\n",
              "      <td>JosephMIFSUD206</td>\n",
              "      <td>['https://youtu.be/9O7CMDouJhc']</td>\n",
              "      <td>https://youtu.be/9O7CMDouJhc</td>\n",
              "      <td>['https://t.co/ShDkJ4qGjV']</td>\n",
              "      <td>https://t.co/ShDkJ4qGjV</td>\n",
              "      <td>[australia, protesters, swarm, melbourne, stre...</td>\n",
              "      <td>['australia', 'protesters', 'swarm', 'melbourn...</td>\n",
              "    </tr>\n",
              "    <tr>\n",
              "      <th>2</th>\n",
              "      <td>2</td>\n",
              "      <td>https://twitter.com/dailymail241/status/146747...</td>\n",
              "      <td>2021-12-05 12:51:27+00:00</td>\n",
              "      <td>Covid-19 Australia: Victoria and NSW keep bord...</td>\n",
              "      <td>1467476711923240967</td>\n",
              "      <td>dailymail241</td>\n",
              "      <td>['https://usmail24.com/covid-19-australia-vict...</td>\n",
              "      <td>https://usmail24.com/covid-19-australia-victor...</td>\n",
              "      <td>['https://t.co/KLSQj8PLXJ']</td>\n",
              "      <td>https://t.co/KLSQj8PLXJ</td>\n",
              "      <td>[australia, victoria, nsw, keep, borders, open...</td>\n",
              "      <td>['australia', 'victoria', 'nsw', 'keep', 'bord...</td>\n",
              "    </tr>\n",
              "    <tr>\n",
              "      <th>3</th>\n",
              "      <td>3</td>\n",
              "      <td>https://twitter.com/usmail24/status/1467476708...</td>\n",
              "      <td>2021-12-05 12:51:26+00:00</td>\n",
              "      <td>Covid-19 Australia: Victoria and NSW keep bord...</td>\n",
              "      <td>1467476708873879569</td>\n",
              "      <td>usmail24</td>\n",
              "      <td>['https://usmail24.com/covid-19-australia-vict...</td>\n",
              "      <td>https://usmail24.com/covid-19-australia-victor...</td>\n",
              "      <td>['https://t.co/GSjW2J7cjm']</td>\n",
              "      <td>https://t.co/GSjW2J7cjm</td>\n",
              "      <td>[australia, victoria, nsw, keep, borders, open...</td>\n",
              "      <td>['australia', 'victoria', 'nsw', 'keep', 'bord...</td>\n",
              "    </tr>\n",
              "    <tr>\n",
              "      <th>4</th>\n",
              "      <td>4</td>\n",
              "      <td>https://twitter.com/NewsOfAmerica4/status/1467...</td>\n",
              "      <td>2021-12-05 12:51:01+00:00</td>\n",
              "      <td>Covid-19 Australia: Victoria and NSW keep bord...</td>\n",
              "      <td>1467476605522124809</td>\n",
              "      <td>NewsOfAmerica4</td>\n",
              "      <td>['https://usmail24.com/covid-19-australia-vict...</td>\n",
              "      <td>https://usmail24.com/covid-19-australia-victor...</td>\n",
              "      <td>['https://t.co/8oQjLQ71sa']</td>\n",
              "      <td>https://t.co/8oQjLQ71sa</td>\n",
              "      <td>[australia, victoria, nsw, keep, borders, open...</td>\n",
              "      <td>['australia', 'victoria', 'nsw', 'keep', 'bord...</td>\n",
              "    </tr>\n",
              "    <tr>\n",
              "      <th>...</th>\n",
              "      <td>...</td>\n",
              "      <td>...</td>\n",
              "      <td>...</td>\n",
              "      <td>...</td>\n",
              "      <td>...</td>\n",
              "      <td>...</td>\n",
              "      <td>...</td>\n",
              "      <td>...</td>\n",
              "      <td>...</td>\n",
              "      <td>...</td>\n",
              "      <td>...</td>\n",
              "      <td>...</td>\n",
              "    </tr>\n",
              "    <tr>\n",
              "      <th>19995</th>\n",
              "      <td>19995</td>\n",
              "      <td>https://twitter.com/RossaMullin/status/1463550...</td>\n",
              "      <td>2021-11-24 16:52:04+00:00</td>\n",
              "      <td>@simoncoveney @dfatirl @AusEmbIre \\nThese incl...</td>\n",
              "      <td>1463550999558246407</td>\n",
              "      <td>RossaMullin</td>\n",
              "      <td>['https://twitter.com/UK__Citizen/status/14634...</td>\n",
              "      <td>https://twitter.com/UK__Citizen/status/1463439...</td>\n",
              "      <td>['https://t.co/d3YislNLhb']</td>\n",
              "      <td>https://t.co/d3YislNLhb</td>\n",
              "      <td>[simoncoveney, dfatirl, ausembire, include, fo...</td>\n",
              "      <td>['simoncoveney', 'dfatirl', 'ausembire', 'incl...</td>\n",
              "    </tr>\n",
              "    <tr>\n",
              "      <th>19996</th>\n",
              "      <td>19996</td>\n",
              "      <td>https://twitter.com/spurstony1979/status/14635...</td>\n",
              "      <td>2021-11-24 16:51:27+00:00</td>\n",
              "      <td>People can you please look at what is going on...</td>\n",
              "      <td>1463550846243852288</td>\n",
              "      <td>spurstony1979</td>\n",
              "      <td>[]</td>\n",
              "      <td>NaN</td>\n",
              "      <td>[]</td>\n",
              "      <td>NaN</td>\n",
              "      <td>[people, please, look, going, australia, time,...</td>\n",
              "      <td>['people', 'please', 'look', 'going', 'austral...</td>\n",
              "    </tr>\n",
              "    <tr>\n",
              "      <th>19997</th>\n",
              "      <td>19997</td>\n",
              "      <td>https://twitter.com/MarioGonGuti/status/146355...</td>\n",
              "      <td>2021-11-24 16:51:17+00:00</td>\n",
              "      <td>«Podríamos decir que el hombre Covid pasa de e...</td>\n",
              "      <td>1463550801226485768</td>\n",
              "      <td>MarioGonGuti</td>\n",
              "      <td>['https://www.hispanidad.com/sociedad/diario-p...</td>\n",
              "      <td>https://www.hispanidad.com/sociedad/diario-pan...</td>\n",
              "      <td>['https://t.co/fzzCsKFEyI']</td>\n",
              "      <td>https://t.co/fzzCsKFEyI</td>\n",
              "      <td>[podríamos, decir, que, el, hombre, covid, pas...</td>\n",
              "      <td>['podríamos', 'decir', 'que', 'el', 'hombre', ...</td>\n",
              "    </tr>\n",
              "    <tr>\n",
              "      <th>19998</th>\n",
              "      <td>19998</td>\n",
              "      <td>https://twitter.com/July91434885/status/146354...</td>\n",
              "      <td>2021-11-24 16:46:41+00:00</td>\n",
              "      <td>@alsnig Te comparto información de un chino. E...</td>\n",
              "      <td>1463549643191734277</td>\n",
              "      <td>July91434885</td>\n",
              "      <td>['https://twitter.com/songpinganq/status/14295...</td>\n",
              "      <td>https://twitter.com/songpinganq/status/1429558...</td>\n",
              "      <td>['https://t.co/mjk1naj7ZW']</td>\n",
              "      <td>https://t.co/mjk1naj7ZW</td>\n",
              "      <td>[alsnig, te, comparto, información, de, un, ch...</td>\n",
              "      <td>['alsnig', 'te', 'comparto', 'información', 'd...</td>\n",
              "    </tr>\n",
              "    <tr>\n",
              "      <th>19999</th>\n",
              "      <td>19999</td>\n",
              "      <td>https://twitter.com/66michaelr/status/14635494...</td>\n",
              "      <td>2021-11-24 16:45:51+00:00</td>\n",
              "      <td>@GroundedKiwis @romulunz Here’s Australia righ...</td>\n",
              "      <td>1463549435485425664</td>\n",
              "      <td>66michaelr</td>\n",
              "      <td>['https://www.interstatequarantine.org.au/stat...</td>\n",
              "      <td>https://www.interstatequarantine.org.au/state-...</td>\n",
              "      <td>['https://t.co/hDZCPavmgt']</td>\n",
              "      <td>https://t.co/hDZCPavmgt</td>\n",
              "      <td>[groundedkiwis, romulunz, australia, right, no...</td>\n",
              "      <td>['groundedkiwis', 'romulunz', 'australia', 'ri...</td>\n",
              "    </tr>\n",
              "  </tbody>\n",
              "</table>\n",
              "<p>20000 rows × 12 columns</p>\n",
              "</div>"
            ],
            "text/plain": [
              "       Unnamed: 0  ...                                  content_clean_str\n",
              "0               0  ...  ['taken', 'lot', 'remymoynes', 'almost', 'aust...\n",
              "1               1  ...  ['australia', 'protesters', 'swarm', 'melbourn...\n",
              "2               2  ...  ['australia', 'victoria', 'nsw', 'keep', 'bord...\n",
              "3               3  ...  ['australia', 'victoria', 'nsw', 'keep', 'bord...\n",
              "4               4  ...  ['australia', 'victoria', 'nsw', 'keep', 'bord...\n",
              "...           ...  ...                                                ...\n",
              "19995       19995  ...  ['simoncoveney', 'dfatirl', 'ausembire', 'incl...\n",
              "19996       19996  ...  ['people', 'please', 'look', 'going', 'austral...\n",
              "19997       19997  ...  ['podríamos', 'decir', 'que', 'el', 'hombre', ...\n",
              "19998       19998  ...  ['alsnig', 'te', 'comparto', 'información', 'd...\n",
              "19999       19999  ...  ['groundedkiwis', 'romulunz', 'australia', 'ri...\n",
              "\n",
              "[20000 rows x 12 columns]"
            ]
          },
          "metadata": {}
        }
      ]
    },
    {
      "cell_type": "code",
      "metadata": {
        "colab": {
          "base_uri": "https://localhost:8080/",
          "height": 877
        },
        "id": "r9nIFI2ll-j6",
        "outputId": "7793efca-f2e2-43d8-b473-1ec93a77ec6c"
      },
      "source": [
        "def freq_words(x, terms = 30): \n",
        "  all_words = ' '.join([text for text in x]) \n",
        "  all_words = all_words.split() \n",
        "  fdist = nltk.FreqDist(all_words) \n",
        "  words_df = pd.DataFrame({'word':list(fdist.keys()), 'count':list(fdist.values())}) \n",
        "  \n",
        "  # selecting top 20 most frequent words \n",
        "  d = words_df.nlargest(columns=\"count\", n = terms) \n",
        "  \n",
        "  # visualize words and frequencies\n",
        "  plt.figure(figsize=(12,15)) \n",
        "  ax = sns.barplot(data=d, x= \"count\", y = \"word\") \n",
        "  ax.set(ylabel = 'Word') \n",
        "  plt.show()\n",
        "  \n",
        "# print 50 most frequent words \n",
        "freq_words(tweets_df['content_clean_str'], 50)"
      ],
      "execution_count": 22,
      "outputs": [
        {
          "output_type": "display_data",
          "data": {
            "image/png": "[encoded data removed]",
            "text/plain": [
              "<Figure size 864x1080 with 1 Axes>"
            ]
          },
          "metadata": {
            "needs_background": "light"
          }
        }
      ]
    },
    {
      "cell_type": "code",
      "metadata": {
        "id": "y3rLy7kiY-jc"
      },
      "source": [
        "# Create list of government Twitter usernames\n",
        "\n",
        "list_gov_twitter = govt_twitter_df['Display Name'].to_list()"
      ],
      "execution_count": 23,
      "outputs": []
    },
    {
      "cell_type": "code",
      "metadata": {
        "id": "TDNS4gDfcA1B"
      },
      "source": [
        "# Create new column to determine if the Tweet username came from a governement twitter account or not\n",
        "\n",
        "tweets_df_govt = tweets_df\n",
        "tweets_df_govt['government related'] = ''\n",
        "\n",
        "def government_related(x):\n",
        "    if x in list_gov_twitter:\n",
        "      return 'Government related'\n",
        "    else:\n",
        "      return 'Not government related'\n",
        "tweets_df_govt['government related'] = tweets_df_govt['username'].apply(government_related)"
      ],
      "execution_count": 24,
      "outputs": []
    },
    {
      "cell_type": "code",
      "metadata": {
        "colab": {
          "base_uri": "https://localhost:8080/",
          "height": 999
        },
        "id": "CZNieFr0cdoY",
        "outputId": "2d97c6e8-8999-418b-9f56-8a90c251fcf0"
      },
      "source": [
        "# Check dataframe with new category for government related tweets\n",
        "\n",
        "display(tweets_df_govt)"
      ],
      "execution_count": 25,
      "outputs": [
        {
          "output_type": "display_data",
          "data": {
            "text/html": [
              "<div>\n",
              "<style scoped>\n",
              "    .dataframe tbody tr th:only-of-type {\n",
              "        vertical-align: middle;\n",
              "    }\n",
              "\n",
              "    .dataframe tbody tr th {\n",
              "        vertical-align: top;\n",
              "    }\n",
              "\n",
              "    .dataframe thead th {\n",
              "        text-align: right;\n",
              "    }\n",
              "</style>\n",
              "<table border=\"1\" class=\"dataframe\">\n",
              "  <thead>\n",
              "    <tr style=\"text-align: right;\">\n",
              "      <th></th>\n",
              "      <th>Unnamed: 0</th>\n",
              "      <th>url</th>\n",
              "      <th>date</th>\n",
              "      <th>content</th>\n",
              "      <th>id</th>\n",
              "      <th>username</th>\n",
              "      <th>outlinks</th>\n",
              "      <th>outlinksss</th>\n",
              "      <th>tcooutlinks</th>\n",
              "      <th>tcooutlinksss</th>\n",
              "      <th>content_clean</th>\n",
              "      <th>content_clean_str</th>\n",
              "      <th>government related</th>\n",
              "    </tr>\n",
              "  </thead>\n",
              "  <tbody>\n",
              "    <tr>\n",
              "      <th>0</th>\n",
              "      <td>0</td>\n",
              "      <td>https://twitter.com/SMorganGrahame/status/1467...</td>\n",
              "      <td>2021-12-05 12:51:53+00:00</td>\n",
              "      <td>It’s taken a lot but @RemyMoynes and I are alm...</td>\n",
              "      <td>1467476823227265031</td>\n",
              "      <td>SMorganGrahame</td>\n",
              "      <td>[]</td>\n",
              "      <td>NaN</td>\n",
              "      <td>[]</td>\n",
              "      <td>NaN</td>\n",
              "      <td>[taken, lot, remymoynes, almost, australia, li...</td>\n",
              "      <td>['taken', 'lot', 'remymoynes', 'almost', 'aust...</td>\n",
              "      <td>Not government related</td>\n",
              "    </tr>\n",
              "    <tr>\n",
              "      <th>1</th>\n",
              "      <td>1</td>\n",
              "      <td>https://twitter.com/JosephMIFSUD206/status/146...</td>\n",
              "      <td>2021-12-05 12:51:32+00:00</td>\n",
              "      <td>Australia: Protesters swarm Melbourne streets ...</td>\n",
              "      <td>1467476733377007619</td>\n",
              "      <td>JosephMIFSUD206</td>\n",
              "      <td>['https://youtu.be/9O7CMDouJhc']</td>\n",
              "      <td>https://youtu.be/9O7CMDouJhc</td>\n",
              "      <td>['https://t.co/ShDkJ4qGjV']</td>\n",
              "      <td>https://t.co/ShDkJ4qGjV</td>\n",
              "      <td>[australia, protesters, swarm, melbourne, stre...</td>\n",
              "      <td>['australia', 'protesters', 'swarm', 'melbourn...</td>\n",
              "      <td>Not government related</td>\n",
              "    </tr>\n",
              "    <tr>\n",
              "      <th>2</th>\n",
              "      <td>2</td>\n",
              "      <td>https://twitter.com/dailymail241/status/146747...</td>\n",
              "      <td>2021-12-05 12:51:27+00:00</td>\n",
              "      <td>Covid-19 Australia: Victoria and NSW keep bord...</td>\n",
              "      <td>1467476711923240967</td>\n",
              "      <td>dailymail241</td>\n",
              "      <td>['https://usmail24.com/covid-19-australia-vict...</td>\n",
              "      <td>https://usmail24.com/covid-19-australia-victor...</td>\n",
              "      <td>['https://t.co/KLSQj8PLXJ']</td>\n",
              "      <td>https://t.co/KLSQj8PLXJ</td>\n",
              "      <td>[australia, victoria, nsw, keep, borders, open...</td>\n",
              "      <td>['australia', 'victoria', 'nsw', 'keep', 'bord...</td>\n",
              "      <td>Not government related</td>\n",
              "    </tr>\n",
              "    <tr>\n",
              "      <th>3</th>\n",
              "      <td>3</td>\n",
              "      <td>https://twitter.com/usmail24/status/1467476708...</td>\n",
              "      <td>2021-12-05 12:51:26+00:00</td>\n",
              "      <td>Covid-19 Australia: Victoria and NSW keep bord...</td>\n",
              "      <td>1467476708873879569</td>\n",
              "      <td>usmail24</td>\n",
              "      <td>['https://usmail24.com/covid-19-australia-vict...</td>\n",
              "      <td>https://usmail24.com/covid-19-australia-victor...</td>\n",
              "      <td>['https://t.co/GSjW2J7cjm']</td>\n",
              "      <td>https://t.co/GSjW2J7cjm</td>\n",
              "      <td>[australia, victoria, nsw, keep, borders, open...</td>\n",
              "      <td>['australia', 'victoria', 'nsw', 'keep', 'bord...</td>\n",
              "      <td>Not government related</td>\n",
              "    </tr>\n",
              "    <tr>\n",
              "      <th>4</th>\n",
              "      <td>4</td>\n",
              "      <td>https://twitter.com/NewsOfAmerica4/status/1467...</td>\n",
              "      <td>2021-12-05 12:51:01+00:00</td>\n",
              "      <td>Covid-19 Australia: Victoria and NSW keep bord...</td>\n",
              "      <td>1467476605522124809</td>\n",
              "      <td>NewsOfAmerica4</td>\n",
              "      <td>['https://usmail24.com/covid-19-australia-vict...</td>\n",
              "      <td>https://usmail24.com/covid-19-australia-victor...</td>\n",
              "      <td>['https://t.co/8oQjLQ71sa']</td>\n",
              "      <td>https://t.co/8oQjLQ71sa</td>\n",
              "      <td>[australia, victoria, nsw, keep, borders, open...</td>\n",
              "      <td>['australia', 'victoria', 'nsw', 'keep', 'bord...</td>\n",
              "      <td>Not government related</td>\n",
              "    </tr>\n",
              "    <tr>\n",
              "      <th>...</th>\n",
              "      <td>...</td>\n",
              "      <td>...</td>\n",
              "      <td>...</td>\n",
              "      <td>...</td>\n",
              "      <td>...</td>\n",
              "      <td>...</td>\n",
              "      <td>...</td>\n",
              "      <td>...</td>\n",
              "      <td>...</td>\n",
              "      <td>...</td>\n",
              "      <td>...</td>\n",
              "      <td>...</td>\n",
              "      <td>...</td>\n",
              "    </tr>\n",
              "    <tr>\n",
              "      <th>19995</th>\n",
              "      <td>19995</td>\n",
              "      <td>https://twitter.com/RossaMullin/status/1463550...</td>\n",
              "      <td>2021-11-24 16:52:04+00:00</td>\n",
              "      <td>@simoncoveney @dfatirl @AusEmbIre \\nThese incl...</td>\n",
              "      <td>1463550999558246407</td>\n",
              "      <td>RossaMullin</td>\n",
              "      <td>['https://twitter.com/UK__Citizen/status/14634...</td>\n",
              "      <td>https://twitter.com/UK__Citizen/status/1463439...</td>\n",
              "      <td>['https://t.co/d3YislNLhb']</td>\n",
              "      <td>https://t.co/d3YislNLhb</td>\n",
              "      <td>[simoncoveney, dfatirl, ausembire, include, fo...</td>\n",
              "      <td>['simoncoveney', 'dfatirl', 'ausembire', 'incl...</td>\n",
              "      <td>Not government related</td>\n",
              "    </tr>\n",
              "    <tr>\n",
              "      <th>19996</th>\n",
              "      <td>19996</td>\n",
              "      <td>https://twitter.com/spurstony1979/status/14635...</td>\n",
              "      <td>2021-11-24 16:51:27+00:00</td>\n",
              "      <td>People can you please look at what is going on...</td>\n",
              "      <td>1463550846243852288</td>\n",
              "      <td>spurstony1979</td>\n",
              "      <td>[]</td>\n",
              "      <td>NaN</td>\n",
              "      <td>[]</td>\n",
              "      <td>NaN</td>\n",
              "      <td>[people, please, look, going, australia, time,...</td>\n",
              "      <td>['people', 'please', 'look', 'going', 'austral...</td>\n",
              "      <td>Not government related</td>\n",
              "    </tr>\n",
              "    <tr>\n",
              "      <th>19997</th>\n",
              "      <td>19997</td>\n",
              "      <td>https://twitter.com/MarioGonGuti/status/146355...</td>\n",
              "      <td>2021-11-24 16:51:17+00:00</td>\n",
              "      <td>«Podríamos decir que el hombre Covid pasa de e...</td>\n",
              "      <td>1463550801226485768</td>\n",
              "      <td>MarioGonGuti</td>\n",
              "      <td>['https://www.hispanidad.com/sociedad/diario-p...</td>\n",
              "      <td>https://www.hispanidad.com/sociedad/diario-pan...</td>\n",
              "      <td>['https://t.co/fzzCsKFEyI']</td>\n",
              "      <td>https://t.co/fzzCsKFEyI</td>\n",
              "      <td>[podríamos, decir, que, el, hombre, covid, pas...</td>\n",
              "      <td>['podríamos', 'decir', 'que', 'el', 'hombre', ...</td>\n",
              "      <td>Not government related</td>\n",
              "    </tr>\n",
              "    <tr>\n",
              "      <th>19998</th>\n",
              "      <td>19998</td>\n",
              "      <td>https://twitter.com/July91434885/status/146354...</td>\n",
              "      <td>2021-11-24 16:46:41+00:00</td>\n",
              "      <td>@alsnig Te comparto información de un chino. E...</td>\n",
              "      <td>1463549643191734277</td>\n",
              "      <td>July91434885</td>\n",
              "      <td>['https://twitter.com/songpinganq/status/14295...</td>\n",
              "      <td>https://twitter.com/songpinganq/status/1429558...</td>\n",
              "      <td>['https://t.co/mjk1naj7ZW']</td>\n",
              "      <td>https://t.co/mjk1naj7ZW</td>\n",
              "      <td>[alsnig, te, comparto, información, de, un, ch...</td>\n",
              "      <td>['alsnig', 'te', 'comparto', 'información', 'd...</td>\n",
              "      <td>Not government related</td>\n",
              "    </tr>\n",
              "    <tr>\n",
              "      <th>19999</th>\n",
              "      <td>19999</td>\n",
              "      <td>https://twitter.com/66michaelr/status/14635494...</td>\n",
              "      <td>2021-11-24 16:45:51+00:00</td>\n",
              "      <td>@GroundedKiwis @romulunz Here’s Australia righ...</td>\n",
              "      <td>1463549435485425664</td>\n",
              "      <td>66michaelr</td>\n",
              "      <td>['https://www.interstatequarantine.org.au/stat...</td>\n",
              "      <td>https://www.interstatequarantine.org.au/state-...</td>\n",
              "      <td>['https://t.co/hDZCPavmgt']</td>\n",
              "      <td>https://t.co/hDZCPavmgt</td>\n",
              "      <td>[groundedkiwis, romulunz, australia, right, no...</td>\n",
              "      <td>['groundedkiwis', 'romulunz', 'australia', 'ri...</td>\n",
              "      <td>Not government related</td>\n",
              "    </tr>\n",
              "  </tbody>\n",
              "</table>\n",
              "<p>20000 rows × 13 columns</p>\n",
              "</div>"
            ],
            "text/plain": [
              "       Unnamed: 0  ...      government related\n",
              "0               0  ...  Not government related\n",
              "1               1  ...  Not government related\n",
              "2               2  ...  Not government related\n",
              "3               3  ...  Not government related\n",
              "4               4  ...  Not government related\n",
              "...           ...  ...                     ...\n",
              "19995       19995  ...  Not government related\n",
              "19996       19996  ...  Not government related\n",
              "19997       19997  ...  Not government related\n",
              "19998       19998  ...  Not government related\n",
              "19999       19999  ...  Not government related\n",
              "\n",
              "[20000 rows x 13 columns]"
            ]
          },
          "metadata": {}
        }
      ]
    },
    {
      "cell_type": "code",
      "metadata": {
        "colab": {
          "base_uri": "https://localhost:8080/",
          "height": 455
        },
        "id": "1EhaUt_QwfBE",
        "outputId": "a9423394-145d-4400-c3f7-aca5f20f171e"
      },
      "source": [
        "# Check how many tweets are from government entities and how many are not\n",
        "\n",
        "tweets_df_govt.groupby(['government related','username']).count()"
      ],
      "execution_count": 26,
      "outputs": [
        {
          "output_type": "execute_result",
          "data": {
            "text/html": [
              "<div>\n",
              "<style scoped>\n",
              "    .dataframe tbody tr th:only-of-type {\n",
              "        vertical-align: middle;\n",
              "    }\n",
              "\n",
              "    .dataframe tbody tr th {\n",
              "        vertical-align: top;\n",
              "    }\n",
              "\n",
              "    .dataframe thead th {\n",
              "        text-align: right;\n",
              "    }\n",
              "</style>\n",
              "<table border=\"1\" class=\"dataframe\">\n",
              "  <thead>\n",
              "    <tr style=\"text-align: right;\">\n",
              "      <th></th>\n",
              "      <th></th>\n",
              "      <th>Unnamed: 0</th>\n",
              "      <th>url</th>\n",
              "      <th>date</th>\n",
              "      <th>content</th>\n",
              "      <th>id</th>\n",
              "      <th>outlinks</th>\n",
              "      <th>outlinksss</th>\n",
              "      <th>tcooutlinks</th>\n",
              "      <th>tcooutlinksss</th>\n",
              "      <th>content_clean</th>\n",
              "      <th>content_clean_str</th>\n",
              "    </tr>\n",
              "    <tr>\n",
              "      <th>government related</th>\n",
              "      <th>username</th>\n",
              "      <th></th>\n",
              "      <th></th>\n",
              "      <th></th>\n",
              "      <th></th>\n",
              "      <th></th>\n",
              "      <th></th>\n",
              "      <th></th>\n",
              "      <th></th>\n",
              "      <th></th>\n",
              "      <th></th>\n",
              "      <th></th>\n",
              "    </tr>\n",
              "  </thead>\n",
              "  <tbody>\n",
              "    <tr>\n",
              "      <th>Government related</th>\n",
              "      <th>CSIRO</th>\n",
              "      <td>2</td>\n",
              "      <td>2</td>\n",
              "      <td>2</td>\n",
              "      <td>2</td>\n",
              "      <td>2</td>\n",
              "      <td>2</td>\n",
              "      <td>2</td>\n",
              "      <td>2</td>\n",
              "      <td>2</td>\n",
              "      <td>2</td>\n",
              "      <td>2</td>\n",
              "    </tr>\n",
              "    <tr>\n",
              "      <th rowspan=\"10\" valign=\"top\">Not government related</th>\n",
              "      <th>01kris</th>\n",
              "      <td>1</td>\n",
              "      <td>1</td>\n",
              "      <td>1</td>\n",
              "      <td>1</td>\n",
              "      <td>1</td>\n",
              "      <td>1</td>\n",
              "      <td>1</td>\n",
              "      <td>1</td>\n",
              "      <td>1</td>\n",
              "      <td>1</td>\n",
              "      <td>1</td>\n",
              "    </tr>\n",
              "    <tr>\n",
              "      <th>020644</th>\n",
              "      <td>1</td>\n",
              "      <td>1</td>\n",
              "      <td>1</td>\n",
              "      <td>1</td>\n",
              "      <td>1</td>\n",
              "      <td>1</td>\n",
              "      <td>1</td>\n",
              "      <td>1</td>\n",
              "      <td>1</td>\n",
              "      <td>1</td>\n",
              "      <td>1</td>\n",
              "    </tr>\n",
              "    <tr>\n",
              "      <th>0467luis</th>\n",
              "      <td>1</td>\n",
              "      <td>1</td>\n",
              "      <td>1</td>\n",
              "      <td>1</td>\n",
              "      <td>1</td>\n",
              "      <td>1</td>\n",
              "      <td>1</td>\n",
              "      <td>1</td>\n",
              "      <td>1</td>\n",
              "      <td>1</td>\n",
              "      <td>1</td>\n",
              "    </tr>\n",
              "    <tr>\n",
              "      <th>08Kiran92</th>\n",
              "      <td>2</td>\n",
              "      <td>2</td>\n",
              "      <td>2</td>\n",
              "      <td>2</td>\n",
              "      <td>2</td>\n",
              "      <td>2</td>\n",
              "      <td>0</td>\n",
              "      <td>2</td>\n",
              "      <td>0</td>\n",
              "      <td>2</td>\n",
              "      <td>2</td>\n",
              "    </tr>\n",
              "    <tr>\n",
              "      <th>...</th>\n",
              "      <td>...</td>\n",
              "      <td>...</td>\n",
              "      <td>...</td>\n",
              "      <td>...</td>\n",
              "      <td>...</td>\n",
              "      <td>...</td>\n",
              "      <td>...</td>\n",
              "      <td>...</td>\n",
              "      <td>...</td>\n",
              "      <td>...</td>\n",
              "      <td>...</td>\n",
              "    </tr>\n",
              "    <tr>\n",
              "      <th>zub73960977</th>\n",
              "      <td>1</td>\n",
              "      <td>1</td>\n",
              "      <td>1</td>\n",
              "      <td>1</td>\n",
              "      <td>1</td>\n",
              "      <td>1</td>\n",
              "      <td>1</td>\n",
              "      <td>1</td>\n",
              "      <td>1</td>\n",
              "      <td>1</td>\n",
              "      <td>1</td>\n",
              "    </tr>\n",
              "    <tr>\n",
              "      <th>zwergie1</th>\n",
              "      <td>1</td>\n",
              "      <td>1</td>\n",
              "      <td>1</td>\n",
              "      <td>1</td>\n",
              "      <td>1</td>\n",
              "      <td>1</td>\n",
              "      <td>1</td>\n",
              "      <td>1</td>\n",
              "      <td>1</td>\n",
              "      <td>1</td>\n",
              "      <td>1</td>\n",
              "    </tr>\n",
              "    <tr>\n",
              "      <th>zychj</th>\n",
              "      <td>1</td>\n",
              "      <td>1</td>\n",
              "      <td>1</td>\n",
              "      <td>1</td>\n",
              "      <td>1</td>\n",
              "      <td>1</td>\n",
              "      <td>1</td>\n",
              "      <td>1</td>\n",
              "      <td>1</td>\n",
              "      <td>1</td>\n",
              "      <td>1</td>\n",
              "    </tr>\n",
              "    <tr>\n",
              "      <th>zyiteblog</th>\n",
              "      <td>3</td>\n",
              "      <td>3</td>\n",
              "      <td>3</td>\n",
              "      <td>3</td>\n",
              "      <td>3</td>\n",
              "      <td>3</td>\n",
              "      <td>3</td>\n",
              "      <td>3</td>\n",
              "      <td>3</td>\n",
              "      <td>3</td>\n",
              "      <td>3</td>\n",
              "    </tr>\n",
              "    <tr>\n",
              "      <th>zzcmathe</th>\n",
              "      <td>1</td>\n",
              "      <td>1</td>\n",
              "      <td>1</td>\n",
              "      <td>1</td>\n",
              "      <td>1</td>\n",
              "      <td>1</td>\n",
              "      <td>0</td>\n",
              "      <td>1</td>\n",
              "      <td>0</td>\n",
              "      <td>1</td>\n",
              "      <td>1</td>\n",
              "    </tr>\n",
              "  </tbody>\n",
              "</table>\n",
              "<p>12355 rows × 11 columns</p>\n",
              "</div>"
            ],
            "text/plain": [
              "                                    Unnamed: 0  ...  content_clean_str\n",
              "government related     username                 ...                   \n",
              "Government related     CSIRO                 2  ...                  2\n",
              "Not government related 01kris                1  ...                  1\n",
              "                       020644                1  ...                  1\n",
              "                       0467luis              1  ...                  1\n",
              "                       08Kiran92             2  ...                  2\n",
              "...                                        ...  ...                ...\n",
              "                       zub73960977           1  ...                  1\n",
              "                       zwergie1              1  ...                  1\n",
              "                       zychj                 1  ...                  1\n",
              "                       zyiteblog             3  ...                  3\n",
              "                       zzcmathe              1  ...                  1\n",
              "\n",
              "[12355 rows x 11 columns]"
            ]
          },
          "metadata": {},
          "execution_count": 26
        }
      ]
    },
    {
      "cell_type": "markdown",
      "metadata": {
        "id": "WY9ldsn5YbXH"
      },
      "source": [
        "# **Section 3a - Sentiment Analysis**"
      ]
    },
    {
      "cell_type": "code",
      "metadata": {
        "id": "5Yw0InjGYaMf"
      },
      "source": [
        "import nltk\n",
        "from nltk.sentiment.vader import SentimentIntensityAnalyzer\n",
        "%matplotlib inline "
      ],
      "execution_count": 36,
      "outputs": []
    },
    {
      "cell_type": "code",
      "metadata": {
        "colab": {
          "base_uri": "https://localhost:8080/",
          "height": 713
        },
        "id": "UF-PmhdUb0Ob",
        "outputId": "c3cf81cc-6364-433d-d63c-309fbd1db07c"
      },
      "source": [
        "nltk.download('vader_lexicon')\n",
        "sid = SentimentIntensityAnalyzer()\n",
        "\n",
        "# Perform sentiment analysis on the tweets (uncleaned)\n",
        "\n",
        "tweets_df_govt['sentiment'] = tweets_df_govt.apply(lambda r: sid.polarity_scores(r.content), axis=1)\n",
        "\n",
        "# Preview the sentiment scores\n",
        "\n",
        "tweets_df_govt.head()"
      ],
      "execution_count": 37,
      "outputs": [
        {
          "output_type": "stream",
          "name": "stdout",
          "text": [
            "[nltk_data] Downloading package vader_lexicon to /root/nltk_data...\n",
            "[nltk_data]   Package vader_lexicon is already up-to-date!\n"
          ]
        },
        {
          "output_type": "execute_result",
          "data": {
            "text/html": [
              "<div>\n",
              "<style scoped>\n",
              "    .dataframe tbody tr th:only-of-type {\n",
              "        vertical-align: middle;\n",
              "    }\n",
              "\n",
              "    .dataframe tbody tr th {\n",
              "        vertical-align: top;\n",
              "    }\n",
              "\n",
              "    .dataframe thead th {\n",
              "        text-align: right;\n",
              "    }\n",
              "</style>\n",
              "<table border=\"1\" class=\"dataframe\">\n",
              "  <thead>\n",
              "    <tr style=\"text-align: right;\">\n",
              "      <th></th>\n",
              "      <th>Unnamed: 0</th>\n",
              "      <th>url</th>\n",
              "      <th>date</th>\n",
              "      <th>content</th>\n",
              "      <th>id</th>\n",
              "      <th>username</th>\n",
              "      <th>outlinks</th>\n",
              "      <th>outlinksss</th>\n",
              "      <th>tcooutlinks</th>\n",
              "      <th>tcooutlinksss</th>\n",
              "      <th>content_clean</th>\n",
              "      <th>content_clean_str</th>\n",
              "      <th>government related</th>\n",
              "      <th>sentiment</th>\n",
              "    </tr>\n",
              "  </thead>\n",
              "  <tbody>\n",
              "    <tr>\n",
              "      <th>0</th>\n",
              "      <td>0</td>\n",
              "      <td>https://twitter.com/SMorganGrahame/status/1467...</td>\n",
              "      <td>2021-12-05 12:51:53+00:00</td>\n",
              "      <td>It’s taken a lot but @RemyMoynes and I are alm...</td>\n",
              "      <td>1467476823227265031</td>\n",
              "      <td>SMorganGrahame</td>\n",
              "      <td>[]</td>\n",
              "      <td>NaN</td>\n",
              "      <td>[]</td>\n",
              "      <td>NaN</td>\n",
              "      <td>[taken, lot, remymoynes, almost, australia, li...</td>\n",
              "      <td>['taken', 'lot', 'remymoynes', 'almost', 'aust...</td>\n",
              "      <td>Not government related</td>\n",
              "      <td>{'neg': 0.133, 'neu': 0.732, 'pos': 0.135, 'co...</td>\n",
              "    </tr>\n",
              "    <tr>\n",
              "      <th>1</th>\n",
              "      <td>1</td>\n",
              "      <td>https://twitter.com/JosephMIFSUD206/status/146...</td>\n",
              "      <td>2021-12-05 12:51:32+00:00</td>\n",
              "      <td>Australia: Protesters swarm Melbourne streets ...</td>\n",
              "      <td>1467476733377007619</td>\n",
              "      <td>JosephMIFSUD206</td>\n",
              "      <td>['https://youtu.be/9O7CMDouJhc']</td>\n",
              "      <td>https://youtu.be/9O7CMDouJhc</td>\n",
              "      <td>['https://t.co/ShDkJ4qGjV']</td>\n",
              "      <td>https://t.co/ShDkJ4qGjV</td>\n",
              "      <td>[australia, protesters, swarm, melbourne, stre...</td>\n",
              "      <td>['australia', 'protesters', 'swarm', 'melbourn...</td>\n",
              "      <td>Not government related</td>\n",
              "      <td>{'neg': 0.16, 'neu': 0.84, 'pos': 0.0, 'compou...</td>\n",
              "    </tr>\n",
              "    <tr>\n",
              "      <th>2</th>\n",
              "      <td>2</td>\n",
              "      <td>https://twitter.com/dailymail241/status/146747...</td>\n",
              "      <td>2021-12-05 12:51:27+00:00</td>\n",
              "      <td>Covid-19 Australia: Victoria and NSW keep bord...</td>\n",
              "      <td>1467476711923240967</td>\n",
              "      <td>dailymail241</td>\n",
              "      <td>['https://usmail24.com/covid-19-australia-vict...</td>\n",
              "      <td>https://usmail24.com/covid-19-australia-victor...</td>\n",
              "      <td>['https://t.co/KLSQj8PLXJ']</td>\n",
              "      <td>https://t.co/KLSQj8PLXJ</td>\n",
              "      <td>[australia, victoria, nsw, keep, borders, open...</td>\n",
              "      <td>['australia', 'victoria', 'nsw', 'keep', 'bord...</td>\n",
              "      <td>Not government related</td>\n",
              "      <td>{'neg': 0.356, 'neu': 0.644, 'pos': 0.0, 'comp...</td>\n",
              "    </tr>\n",
              "    <tr>\n",
              "      <th>3</th>\n",
              "      <td>3</td>\n",
              "      <td>https://twitter.com/usmail24/status/1467476708...</td>\n",
              "      <td>2021-12-05 12:51:26+00:00</td>\n",
              "      <td>Covid-19 Australia: Victoria and NSW keep bord...</td>\n",
              "      <td>1467476708873879569</td>\n",
              "      <td>usmail24</td>\n",
              "      <td>['https://usmail24.com/covid-19-australia-vict...</td>\n",
              "      <td>https://usmail24.com/covid-19-australia-victor...</td>\n",
              "      <td>['https://t.co/GSjW2J7cjm']</td>\n",
              "      <td>https://t.co/GSjW2J7cjm</td>\n",
              "      <td>[australia, victoria, nsw, keep, borders, open...</td>\n",
              "      <td>['australia', 'victoria', 'nsw', 'keep', 'bord...</td>\n",
              "      <td>Not government related</td>\n",
              "      <td>{'neg': 0.356, 'neu': 0.644, 'pos': 0.0, 'comp...</td>\n",
              "    </tr>\n",
              "    <tr>\n",
              "      <th>4</th>\n",
              "      <td>4</td>\n",
              "      <td>https://twitter.com/NewsOfAmerica4/status/1467...</td>\n",
              "      <td>2021-12-05 12:51:01+00:00</td>\n",
              "      <td>Covid-19 Australia: Victoria and NSW keep bord...</td>\n",
              "      <td>1467476605522124809</td>\n",
              "      <td>NewsOfAmerica4</td>\n",
              "      <td>['https://usmail24.com/covid-19-australia-vict...</td>\n",
              "      <td>https://usmail24.com/covid-19-australia-victor...</td>\n",
              "      <td>['https://t.co/8oQjLQ71sa']</td>\n",
              "      <td>https://t.co/8oQjLQ71sa</td>\n",
              "      <td>[australia, victoria, nsw, keep, borders, open...</td>\n",
              "      <td>['australia', 'victoria', 'nsw', 'keep', 'bord...</td>\n",
              "      <td>Not government related</td>\n",
              "      <td>{'neg': 0.356, 'neu': 0.644, 'pos': 0.0, 'comp...</td>\n",
              "    </tr>\n",
              "  </tbody>\n",
              "</table>\n",
              "</div>"
            ],
            "text/plain": [
              "   Unnamed: 0  ...                                          sentiment\n",
              "0           0  ...  {'neg': 0.133, 'neu': 0.732, 'pos': 0.135, 'co...\n",
              "1           1  ...  {'neg': 0.16, 'neu': 0.84, 'pos': 0.0, 'compou...\n",
              "2           2  ...  {'neg': 0.356, 'neu': 0.644, 'pos': 0.0, 'comp...\n",
              "3           3  ...  {'neg': 0.356, 'neu': 0.644, 'pos': 0.0, 'comp...\n",
              "4           4  ...  {'neg': 0.356, 'neu': 0.644, 'pos': 0.0, 'comp...\n",
              "\n",
              "[5 rows x 14 columns]"
            ]
          },
          "metadata": {},
          "execution_count": 37
        }
      ]
    },
    {
      "cell_type": "code",
      "metadata": {
        "colab": {
          "base_uri": "https://localhost:8080/",
          "height": 677
        },
        "id": "bKDo4FJ1cfxP",
        "outputId": "7c8afed3-7d86-46f9-b713-63313309196f"
      },
      "source": [
        "# Create an overall score of sentiment\n",
        "\n",
        "tweets_df_govt['compound']  = tweets_df_govt['sentiment'].apply(lambda score_dict: score_dict['compound'])\n",
        "tweets_df_govt.head()"
      ],
      "execution_count": 38,
      "outputs": [
        {
          "output_type": "execute_result",
          "data": {
            "text/html": [
              "<div>\n",
              "<style scoped>\n",
              "    .dataframe tbody tr th:only-of-type {\n",
              "        vertical-align: middle;\n",
              "    }\n",
              "\n",
              "    .dataframe tbody tr th {\n",
              "        vertical-align: top;\n",
              "    }\n",
              "\n",
              "    .dataframe thead th {\n",
              "        text-align: right;\n",
              "    }\n",
              "</style>\n",
              "<table border=\"1\" class=\"dataframe\">\n",
              "  <thead>\n",
              "    <tr style=\"text-align: right;\">\n",
              "      <th></th>\n",
              "      <th>Unnamed: 0</th>\n",
              "      <th>url</th>\n",
              "      <th>date</th>\n",
              "      <th>content</th>\n",
              "      <th>id</th>\n",
              "      <th>username</th>\n",
              "      <th>outlinks</th>\n",
              "      <th>outlinksss</th>\n",
              "      <th>tcooutlinks</th>\n",
              "      <th>tcooutlinksss</th>\n",
              "      <th>content_clean</th>\n",
              "      <th>content_clean_str</th>\n",
              "      <th>government related</th>\n",
              "      <th>sentiment</th>\n",
              "      <th>compound</th>\n",
              "    </tr>\n",
              "  </thead>\n",
              "  <tbody>\n",
              "    <tr>\n",
              "      <th>0</th>\n",
              "      <td>0</td>\n",
              "      <td>https://twitter.com/SMorganGrahame/status/1467...</td>\n",
              "      <td>2021-12-05 12:51:53+00:00</td>\n",
              "      <td>It’s taken a lot but @RemyMoynes and I are alm...</td>\n",
              "      <td>1467476823227265031</td>\n",
              "      <td>SMorganGrahame</td>\n",
              "      <td>[]</td>\n",
              "      <td>NaN</td>\n",
              "      <td>[]</td>\n",
              "      <td>NaN</td>\n",
              "      <td>[taken, lot, remymoynes, almost, australia, li...</td>\n",
              "      <td>['taken', 'lot', 'remymoynes', 'almost', 'aust...</td>\n",
              "      <td>Not government related</td>\n",
              "      <td>{'neg': 0.133, 'neu': 0.732, 'pos': 0.135, 'co...</td>\n",
              "      <td>0.0387</td>\n",
              "    </tr>\n",
              "    <tr>\n",
              "      <th>1</th>\n",
              "      <td>1</td>\n",
              "      <td>https://twitter.com/JosephMIFSUD206/status/146...</td>\n",
              "      <td>2021-12-05 12:51:32+00:00</td>\n",
              "      <td>Australia: Protesters swarm Melbourne streets ...</td>\n",
              "      <td>1467476733377007619</td>\n",
              "      <td>JosephMIFSUD206</td>\n",
              "      <td>['https://youtu.be/9O7CMDouJhc']</td>\n",
              "      <td>https://youtu.be/9O7CMDouJhc</td>\n",
              "      <td>['https://t.co/ShDkJ4qGjV']</td>\n",
              "      <td>https://t.co/ShDkJ4qGjV</td>\n",
              "      <td>[australia, protesters, swarm, melbourne, stre...</td>\n",
              "      <td>['australia', 'protesters', 'swarm', 'melbourn...</td>\n",
              "      <td>Not government related</td>\n",
              "      <td>{'neg': 0.16, 'neu': 0.84, 'pos': 0.0, 'compou...</td>\n",
              "      <td>-0.2263</td>\n",
              "    </tr>\n",
              "    <tr>\n",
              "      <th>2</th>\n",
              "      <td>2</td>\n",
              "      <td>https://twitter.com/dailymail241/status/146747...</td>\n",
              "      <td>2021-12-05 12:51:27+00:00</td>\n",
              "      <td>Covid-19 Australia: Victoria and NSW keep bord...</td>\n",
              "      <td>1467476711923240967</td>\n",
              "      <td>dailymail241</td>\n",
              "      <td>['https://usmail24.com/covid-19-australia-vict...</td>\n",
              "      <td>https://usmail24.com/covid-19-australia-victor...</td>\n",
              "      <td>['https://t.co/KLSQj8PLXJ']</td>\n",
              "      <td>https://t.co/KLSQj8PLXJ</td>\n",
              "      <td>[australia, victoria, nsw, keep, borders, open...</td>\n",
              "      <td>['australia', 'victoria', 'nsw', 'keep', 'bord...</td>\n",
              "      <td>Not government related</td>\n",
              "      <td>{'neg': 0.356, 'neu': 0.644, 'pos': 0.0, 'comp...</td>\n",
              "      <td>-0.8020</td>\n",
              "    </tr>\n",
              "    <tr>\n",
              "      <th>3</th>\n",
              "      <td>3</td>\n",
              "      <td>https://twitter.com/usmail24/status/1467476708...</td>\n",
              "      <td>2021-12-05 12:51:26+00:00</td>\n",
              "      <td>Covid-19 Australia: Victoria and NSW keep bord...</td>\n",
              "      <td>1467476708873879569</td>\n",
              "      <td>usmail24</td>\n",
              "      <td>['https://usmail24.com/covid-19-australia-vict...</td>\n",
              "      <td>https://usmail24.com/covid-19-australia-victor...</td>\n",
              "      <td>['https://t.co/GSjW2J7cjm']</td>\n",
              "      <td>https://t.co/GSjW2J7cjm</td>\n",
              "      <td>[australia, victoria, nsw, keep, borders, open...</td>\n",
              "      <td>['australia', 'victoria', 'nsw', 'keep', 'bord...</td>\n",
              "      <td>Not government related</td>\n",
              "      <td>{'neg': 0.356, 'neu': 0.644, 'pos': 0.0, 'comp...</td>\n",
              "      <td>-0.8020</td>\n",
              "    </tr>\n",
              "    <tr>\n",
              "      <th>4</th>\n",
              "      <td>4</td>\n",
              "      <td>https://twitter.com/NewsOfAmerica4/status/1467...</td>\n",
              "      <td>2021-12-05 12:51:01+00:00</td>\n",
              "      <td>Covid-19 Australia: Victoria and NSW keep bord...</td>\n",
              "      <td>1467476605522124809</td>\n",
              "      <td>NewsOfAmerica4</td>\n",
              "      <td>['https://usmail24.com/covid-19-australia-vict...</td>\n",
              "      <td>https://usmail24.com/covid-19-australia-victor...</td>\n",
              "      <td>['https://t.co/8oQjLQ71sa']</td>\n",
              "      <td>https://t.co/8oQjLQ71sa</td>\n",
              "      <td>[australia, victoria, nsw, keep, borders, open...</td>\n",
              "      <td>['australia', 'victoria', 'nsw', 'keep', 'bord...</td>\n",
              "      <td>Not government related</td>\n",
              "      <td>{'neg': 0.356, 'neu': 0.644, 'pos': 0.0, 'comp...</td>\n",
              "      <td>-0.8020</td>\n",
              "    </tr>\n",
              "  </tbody>\n",
              "</table>\n",
              "</div>"
            ],
            "text/plain": [
              "   Unnamed: 0  ... compound\n",
              "0           0  ...   0.0387\n",
              "1           1  ...  -0.2263\n",
              "2           2  ...  -0.8020\n",
              "3           3  ...  -0.8020\n",
              "4           4  ...  -0.8020\n",
              "\n",
              "[5 rows x 15 columns]"
            ]
          },
          "metadata": {},
          "execution_count": 38
        }
      ]
    },
    {
      "cell_type": "code",
      "metadata": {
        "colab": {
          "base_uri": "https://localhost:8080/",
          "height": 677
        },
        "id": "LPtkvSk9d1Zs",
        "outputId": "7ab7106b-96ca-45c5-f7dd-ede611ac0aa4"
      },
      "source": [
        "# Create a positive and negative category for each tweet\n",
        "\n",
        "tweets_df_govt['comp_score'] = tweets_df_govt['compound'].apply(lambda c: 'pos' if c >=0 else 'neg')\n",
        "tweets_df_govt.head()"
      ],
      "execution_count": 39,
      "outputs": [
        {
          "output_type": "execute_result",
          "data": {
            "text/html": [
              "<div>\n",
              "<style scoped>\n",
              "    .dataframe tbody tr th:only-of-type {\n",
              "        vertical-align: middle;\n",
              "    }\n",
              "\n",
              "    .dataframe tbody tr th {\n",
              "        vertical-align: top;\n",
              "    }\n",
              "\n",
              "    .dataframe thead th {\n",
              "        text-align: right;\n",
              "    }\n",
              "</style>\n",
              "<table border=\"1\" class=\"dataframe\">\n",
              "  <thead>\n",
              "    <tr style=\"text-align: right;\">\n",
              "      <th></th>\n",
              "      <th>Unnamed: 0</th>\n",
              "      <th>url</th>\n",
              "      <th>date</th>\n",
              "      <th>content</th>\n",
              "      <th>id</th>\n",
              "      <th>username</th>\n",
              "      <th>outlinks</th>\n",
              "      <th>outlinksss</th>\n",
              "      <th>tcooutlinks</th>\n",
              "      <th>tcooutlinksss</th>\n",
              "      <th>content_clean</th>\n",
              "      <th>content_clean_str</th>\n",
              "      <th>government related</th>\n",
              "      <th>sentiment</th>\n",
              "      <th>compound</th>\n",
              "      <th>comp_score</th>\n",
              "    </tr>\n",
              "  </thead>\n",
              "  <tbody>\n",
              "    <tr>\n",
              "      <th>0</th>\n",
              "      <td>0</td>\n",
              "      <td>https://twitter.com/SMorganGrahame/status/1467...</td>\n",
              "      <td>2021-12-05 12:51:53+00:00</td>\n",
              "      <td>It’s taken a lot but @RemyMoynes and I are alm...</td>\n",
              "      <td>1467476823227265031</td>\n",
              "      <td>SMorganGrahame</td>\n",
              "      <td>[]</td>\n",
              "      <td>NaN</td>\n",
              "      <td>[]</td>\n",
              "      <td>NaN</td>\n",
              "      <td>[taken, lot, remymoynes, almost, australia, li...</td>\n",
              "      <td>['taken', 'lot', 'remymoynes', 'almost', 'aust...</td>\n",
              "      <td>Not government related</td>\n",
              "      <td>{'neg': 0.133, 'neu': 0.732, 'pos': 0.135, 'co...</td>\n",
              "      <td>0.0387</td>\n",
              "      <td>pos</td>\n",
              "    </tr>\n",
              "    <tr>\n",
              "      <th>1</th>\n",
              "      <td>1</td>\n",
              "      <td>https://twitter.com/JosephMIFSUD206/status/146...</td>\n",
              "      <td>2021-12-05 12:51:32+00:00</td>\n",
              "      <td>Australia: Protesters swarm Melbourne streets ...</td>\n",
              "      <td>1467476733377007619</td>\n",
              "      <td>JosephMIFSUD206</td>\n",
              "      <td>['https://youtu.be/9O7CMDouJhc']</td>\n",
              "      <td>https://youtu.be/9O7CMDouJhc</td>\n",
              "      <td>['https://t.co/ShDkJ4qGjV']</td>\n",
              "      <td>https://t.co/ShDkJ4qGjV</td>\n",
              "      <td>[australia, protesters, swarm, melbourne, stre...</td>\n",
              "      <td>['australia', 'protesters', 'swarm', 'melbourn...</td>\n",
              "      <td>Not government related</td>\n",
              "      <td>{'neg': 0.16, 'neu': 0.84, 'pos': 0.0, 'compou...</td>\n",
              "      <td>-0.2263</td>\n",
              "      <td>neg</td>\n",
              "    </tr>\n",
              "    <tr>\n",
              "      <th>2</th>\n",
              "      <td>2</td>\n",
              "      <td>https://twitter.com/dailymail241/status/146747...</td>\n",
              "      <td>2021-12-05 12:51:27+00:00</td>\n",
              "      <td>Covid-19 Australia: Victoria and NSW keep bord...</td>\n",
              "      <td>1467476711923240967</td>\n",
              "      <td>dailymail241</td>\n",
              "      <td>['https://usmail24.com/covid-19-australia-vict...</td>\n",
              "      <td>https://usmail24.com/covid-19-australia-victor...</td>\n",
              "      <td>['https://t.co/KLSQj8PLXJ']</td>\n",
              "      <td>https://t.co/KLSQj8PLXJ</td>\n",
              "      <td>[australia, victoria, nsw, keep, borders, open...</td>\n",
              "      <td>['australia', 'victoria', 'nsw', 'keep', 'bord...</td>\n",
              "      <td>Not government related</td>\n",
              "      <td>{'neg': 0.356, 'neu': 0.644, 'pos': 0.0, 'comp...</td>\n",
              "      <td>-0.8020</td>\n",
              "      <td>neg</td>\n",
              "    </tr>\n",
              "    <tr>\n",
              "      <th>3</th>\n",
              "      <td>3</td>\n",
              "      <td>https://twitter.com/usmail24/status/1467476708...</td>\n",
              "      <td>2021-12-05 12:51:26+00:00</td>\n",
              "      <td>Covid-19 Australia: Victoria and NSW keep bord...</td>\n",
              "      <td>1467476708873879569</td>\n",
              "      <td>usmail24</td>\n",
              "      <td>['https://usmail24.com/covid-19-australia-vict...</td>\n",
              "      <td>https://usmail24.com/covid-19-australia-victor...</td>\n",
              "      <td>['https://t.co/GSjW2J7cjm']</td>\n",
              "      <td>https://t.co/GSjW2J7cjm</td>\n",
              "      <td>[australia, victoria, nsw, keep, borders, open...</td>\n",
              "      <td>['australia', 'victoria', 'nsw', 'keep', 'bord...</td>\n",
              "      <td>Not government related</td>\n",
              "      <td>{'neg': 0.356, 'neu': 0.644, 'pos': 0.0, 'comp...</td>\n",
              "      <td>-0.8020</td>\n",
              "      <td>neg</td>\n",
              "    </tr>\n",
              "    <tr>\n",
              "      <th>4</th>\n",
              "      <td>4</td>\n",
              "      <td>https://twitter.com/NewsOfAmerica4/status/1467...</td>\n",
              "      <td>2021-12-05 12:51:01+00:00</td>\n",
              "      <td>Covid-19 Australia: Victoria and NSW keep bord...</td>\n",
              "      <td>1467476605522124809</td>\n",
              "      <td>NewsOfAmerica4</td>\n",
              "      <td>['https://usmail24.com/covid-19-australia-vict...</td>\n",
              "      <td>https://usmail24.com/covid-19-australia-victor...</td>\n",
              "      <td>['https://t.co/8oQjLQ71sa']</td>\n",
              "      <td>https://t.co/8oQjLQ71sa</td>\n",
              "      <td>[australia, victoria, nsw, keep, borders, open...</td>\n",
              "      <td>['australia', 'victoria', 'nsw', 'keep', 'bord...</td>\n",
              "      <td>Not government related</td>\n",
              "      <td>{'neg': 0.356, 'neu': 0.644, 'pos': 0.0, 'comp...</td>\n",
              "      <td>-0.8020</td>\n",
              "      <td>neg</td>\n",
              "    </tr>\n",
              "  </tbody>\n",
              "</table>\n",
              "</div>"
            ],
            "text/plain": [
              "   Unnamed: 0  ... comp_score\n",
              "0           0  ...        pos\n",
              "1           1  ...        neg\n",
              "2           2  ...        neg\n",
              "3           3  ...        neg\n",
              "4           4  ...        neg\n",
              "\n",
              "[5 rows x 16 columns]"
            ]
          },
          "metadata": {},
          "execution_count": 39
        }
      ]
    },
    {
      "cell_type": "code",
      "metadata": {
        "colab": {
          "base_uri": "https://localhost:8080/"
        },
        "id": "nhc1rNe2bafG",
        "outputId": "4b14bf50-3ef2-4556-a5fb-ad5e1bd499d7"
      },
      "source": [
        "# Count the total number of positive tweets and negative tweets\n",
        "\n",
        "tweets_df_govt['comp_score'].value_counts()"
      ],
      "execution_count": 40,
      "outputs": [
        {
          "output_type": "execute_result",
          "data": {
            "text/plain": [
              "pos    12536\n",
              "neg     7464\n",
              "Name: comp_score, dtype: int64"
            ]
          },
          "metadata": {},
          "execution_count": 40
        }
      ]
    },
    {
      "cell_type": "code",
      "metadata": {
        "colab": {
          "base_uri": "https://localhost:8080/",
          "height": 900
        },
        "id": "L7jGkO4Qqznm",
        "outputId": "0f54ed65-d5b7-4f24-a637-0d796e9d5c86"
      },
      "source": [
        "# Analysis of the sentiment scores\n",
        "\n",
        "tweets_df_hist = tweets_df_govt[[\"content\",\"government related\",\"comp_score\",\"compound\"]]\n",
        "tweets_df_hist.groupby(['government related','comp_score']).hist()"
      ],
      "execution_count": 44,
      "outputs": [
        {
          "output_type": "execute_result",
          "data": {
            "text/plain": [
              "government related      comp_score\n",
              "Government related      pos           [[AxesSubplot(0.125,0.125;0.775x0.755)]]\n",
              "Not government related  neg           [[AxesSubplot(0.125,0.125;0.775x0.755)]]\n",
              "                        pos           [[AxesSubplot(0.125,0.125;0.775x0.755)]]\n",
              "dtype: object"
            ]
          },
          "metadata": {},
          "execution_count": 44
        },
        {
          "output_type": "display_data",
          "data": {
            "image/png": "[encoded data removed]",
            "text/plain": [
              "<Figure size 432x288 with 1 Axes>"
            ]
          },
          "metadata": {
            "needs_background": "light"
          }
        },
        {
          "output_type": "display_data",
          "data": {
            "image/png": "[encoded data removed]",
            "text/plain": [
              "<Figure size 432x288 with 1 Axes>"
            ]
          },
          "metadata": {
            "needs_background": "light"
          }
        },
        {
          "output_type": "display_data",
          "data": {
            "image/png": "[encoded data removed]",
            "text/plain": [
              "<Figure size 432x288 with 1 Axes>"
            ]
          },
          "metadata": {
            "needs_background": "light"
          }
        }
      ]
    },
    {
      "cell_type": "code",
      "metadata": {
        "colab": {
          "base_uri": "https://localhost:8080/",
          "height": 408
        },
        "id": "GcC0ReOufNGc",
        "outputId": "9b1e6b7c-9cdd-44f1-9fc5-c3a73ef27ece"
      },
      "source": [
        "# Analysis of the sentiment scores\n",
        "\n",
        "import seaborn\n",
        "import matplotlib.cm as cm\n",
        "import matplotlib.pyplot as plt\n",
        "\n",
        "seaborn.set() #make the plots look pretty\n",
        "ag = tweets_df_hist.groupby(['government related','comp_score']).sum().unstack()\n",
        "ag.columns = ag.columns.droplevel()\n",
        "\n",
        "ag.plot(kind = 'bar', colormap = cm.Accent, width = 1)\n",
        "plt.show()"
      ],
      "execution_count": 45,
      "outputs": [
        {
          "output_type": "display_data",
          "data": {
            "image/png": "[encoded data removed]",
            "text/plain": [
              "<Figure size 432x288 with 1 Axes>"
            ]
          },
          "metadata": {}
        }
      ]
    },
    {
      "cell_type": "markdown",
      "metadata": {
        "id": "7hrfEHTshixb"
      },
      "source": [
        "# **Section 3b - Machine Learning for Sentiment Analysis**"
      ]
    },
    {
      "cell_type": "code",
      "metadata": {
        "colab": {
          "base_uri": "https://localhost:8080/"
        },
        "id": "ghMFZUbMhdq7",
        "outputId": "e680dd5a-078e-488f-b9d7-8a25386820f8"
      },
      "source": [
        "# Convert the categorical data in sentiment score to numerical\n",
        "\n",
        "sentiment_label = tweets_df_govt.comp_score.factorize()\n",
        "sentiment_label"
      ],
      "execution_count": 46,
      "outputs": [
        {
          "output_type": "execute_result",
          "data": {
            "text/plain": [
              "(array([0, 1, 1, ..., 0, 1, 1]), Index(['pos', 'neg'], dtype='object'))"
            ]
          },
          "metadata": {},
          "execution_count": 46
        }
      ]
    },
    {
      "cell_type": "code",
      "metadata": {
        "id": "BbhKRN24iwRn"
      },
      "source": [
        "# Obtain the values of the tweets\n",
        "\n",
        "tweets = tweets_df_govt.content.values"
      ],
      "execution_count": 47,
      "outputs": []
    },
    {
      "cell_type": "code",
      "metadata": {
        "id": "Ym4D2p4ri_hm"
      },
      "source": [
        "# Tokenize the words in the tweets\n",
        "\n",
        "from tensorflow.keras.preprocessing.text import Tokenizer\n",
        "tokenizer = Tokenizer(num_words=5000)\n",
        "tokenizer.fit_on_texts(tweets)"
      ],
      "execution_count": 48,
      "outputs": []
    },
    {
      "cell_type": "code",
      "metadata": {
        "id": "KawH1fXHjN-X"
      },
      "source": [
        "# Replace words with assigned numbers\n",
        "\n",
        "encoded_docs = tokenizer.texts_to_sequences(tweets)"
      ],
      "execution_count": 49,
      "outputs": []
    },
    {
      "cell_type": "code",
      "metadata": {
        "id": "bSJh3b7KjECR"
      },
      "source": [
        "# Use padding for sentences that do not have equal length\n",
        "\n",
        "from tensorflow.keras.preprocessing.sequence import pad_sequences\n",
        "padded_sequence = pad_sequences(encoded_docs, maxlen=200)"
      ],
      "execution_count": 50,
      "outputs": []
    },
    {
      "cell_type": "code",
      "metadata": {
        "colab": {
          "base_uri": "https://localhost:8080/"
        },
        "id": "OLLPdV3LjQxn",
        "outputId": "c7cebf2b-105e-4b88-92e1-f21afcab4103"
      },
      "source": [
        "# Add parameters to the model\n",
        "\n",
        "from tensorflow.keras.models import Sequential\n",
        "from tensorflow.keras.layers import LSTM,Dense, Dropout, SpatialDropout1D\n",
        "from tensorflow.keras.layers import Embedding\n",
        "embedding_vector_length = 32\n",
        "model = Sequential()\n",
        "model.add(Embedding(5000, embedding_vector_length, input_length=200))\n",
        "model.add(SpatialDropout1D(0.25))\n",
        "model.add(LSTM(50, dropout=0.5, recurrent_dropout=0.5))\n",
        "model.add(Dropout(0.2))\n",
        "model.add(Dense(1, activation='sigmoid'))\n",
        "model.compile(loss='binary_crossentropy',optimizer='adam', metrics=['accuracy'])\n",
        "print(model.summary())"
      ],
      "execution_count": 51,
      "outputs": [
        {
          "output_type": "stream",
          "name": "stdout",
          "text": [
            "Model: \"sequential_1\"\n",
            "_________________________________________________________________\n",
            " Layer (type)                Output Shape              Param #   \n",
            "=================================================================\n",
            " embedding_1 (Embedding)     (None, 200, 32)           160000    \n",
            "                                                                 \n",
            " spatial_dropout1d_1 (Spatia  (None, 200, 32)          0         \n",
            " lDropout1D)                                                     \n",
            "                                                                 \n",
            " lstm_1 (LSTM)               (None, 50)                16600     \n",
            "                                                                 \n",
            " dropout_1 (Dropout)         (None, 50)                0         \n",
            "                                                                 \n",
            " dense_1 (Dense)             (None, 1)                 51        \n",
            "                                                                 \n",
            "=================================================================\n",
            "Total params: 176,651\n",
            "Trainable params: 176,651\n",
            "Non-trainable params: 0\n",
            "_________________________________________________________________\n",
            "None\n"
          ]
        }
      ]
    },
    {
      "cell_type": "code",
      "metadata": {
        "colab": {
          "base_uri": "https://localhost:8080/"
        },
        "id": "FXAcAAIwiB95",
        "outputId": "82322497-1d0f-4462-db24-35e7dcb39ea5"
      },
      "source": [
        "history = model.fit(padded_sequence,sentiment_label[0],validation_split=0.2, epochs=5, batch_size=32)"
      ],
      "execution_count": 52,
      "outputs": [
        {
          "output_type": "stream",
          "name": "stdout",
          "text": [
            "Epoch 1/5\n",
            "500/500 [==============================] - 84s 164ms/step - loss: 0.5295 - accuracy: 0.7212 - val_loss: 0.4864 - val_accuracy: 0.7707\n",
            "Epoch 2/5\n",
            "500/500 [==============================] - 82s 164ms/step - loss: 0.3521 - accuracy: 0.8506 - val_loss: 0.5111 - val_accuracy: 0.7905\n",
            "Epoch 3/5\n",
            "500/500 [==============================] - 82s 165ms/step - loss: 0.2955 - accuracy: 0.8799 - val_loss: 0.4328 - val_accuracy: 0.8117\n",
            "Epoch 4/5\n",
            "500/500 [==============================] - 82s 164ms/step - loss: 0.2623 - accuracy: 0.8956 - val_loss: 0.4398 - val_accuracy: 0.8210\n",
            "Epoch 5/5\n",
            "500/500 [==============================] - 82s 164ms/step - loss: 0.2338 - accuracy: 0.9101 - val_loss: 0.4500 - val_accuracy: 0.8240\n"
          ]
        }
      ]
    },
    {
      "cell_type": "code",
      "metadata": {
        "colab": {
          "base_uri": "https://localhost:8080/",
          "height": 286
        },
        "id": "KC03t-CXkJXj",
        "outputId": "1698056f-e242-4e53-ef3f-d933f181ec9e"
      },
      "source": [
        "# Plot the accuracy of the model\n",
        "\n",
        "import matplotlib.pyplot as plt\n",
        "plt.plot(history.history['accuracy'], label='acc')\n",
        "plt.plot(history.history['val_accuracy'], label='val_acc')\n",
        "plt.legend()\n",
        "plt.show()\n",
        "plt.savefig(\"Accuracy plot.jpg\")"
      ],
      "execution_count": 53,
      "outputs": [
        {
          "output_type": "display_data",
          "data": {
            "image/png": "[encoded data removed]",
            "text/plain": [
              "<Figure size 432x288 with 1 Axes>"
            ]
          },
          "metadata": {}
        },
        {
          "output_type": "display_data",
          "data": {
            "text/plain": [
              "<Figure size 432x288 with 0 Axes>"
            ]
          },
          "metadata": {}
        }
      ]
    },
    {
      "cell_type": "code",
      "metadata": {
        "colab": {
          "base_uri": "https://localhost:8080/",
          "height": 286
        },
        "id": "ypXPk6WKkWQZ",
        "outputId": "1034f17a-92e1-40e2-ace2-29f0fbfad5ed"
      },
      "source": [
        "# Plot the loss of the model\n",
        "\n",
        "plt.plot(history.history['loss'], label='loss')\n",
        "plt.plot(history.history['val_loss'], label='val_loss')\n",
        "plt.legend()\n",
        "plt.show()\n",
        "plt.savefig(\"Loss plt.jpg\")"
      ],
      "execution_count": 54,
      "outputs": [
        {
          "output_type": "display_data",
          "data": {
            "image/png": "[encoded data removed]",
            "text/plain": [
              "<Figure size 432x288 with 1 Axes>"
            ]
          },
          "metadata": {}
        },
        {
          "output_type": "display_data",
          "data": {
            "text/plain": [
              "<Figure size 432x288 with 0 Axes>"
            ]
          },
          "metadata": {}
        }
      ]
    },
    {
      "cell_type": "code",
      "metadata": {
        "colab": {
          "base_uri": "https://localhost:8080/"
        },
        "id": "PkUg4_gLXtzK",
        "outputId": "17ea381f-799b-41e7-8cff-013d08bb32cc"
      },
      "source": [
        "# Test the model using two different phrases\n",
        "\n",
        "def predict_sentiment(text):\n",
        "    tw = tokenizer.texts_to_sequences([text])\n",
        "    tw = pad_sequences(tw,maxlen=200)\n",
        "    prediction = int(model.predict(tw).round().item())\n",
        "    print(\"Predicted label: \", sentiment_label[1][prediction])\n",
        "test_sentence1 = \"I can not wait to get my vaccine.\"\n",
        "predict_sentiment(test_sentence1)\n",
        "test_sentence2 = \"I hate going into lockdown!\"\n",
        "predict_sentiment(test_sentence2)"
      ],
      "execution_count": 56,
      "outputs": [
        {
          "output_type": "stream",
          "name": "stdout",
          "text": [
            "Predicted label:  pos\n",
            "Predicted label:  neg\n"
          ]
        }
      ]
    },
    {
      "cell_type": "markdown",
      "metadata": {
        "id": "5hcZkAkHgBee"
      },
      "source": [
        "# **Section 4 - LDA Using Sentiment Analysis**"
      ]
    },
    {
      "cell_type": "code",
      "metadata": {
        "id": "2XpHcBL-gAUG"
      },
      "source": [
        "# Import pandas\n",
        "\n",
        "import warnings\n",
        "warnings.filterwarnings('ignore')\n",
        "from wordcloud import WordCloud\n",
        "import gensim\n",
        "from gensim.utils import simple_preprocess\n",
        "import gensim.corpora as corpora\n",
        "from pprint import pprint"
      ],
      "execution_count": null,
      "outputs": []
    },
    {
      "cell_type": "code",
      "metadata": {
        "colab": {
          "base_uri": "https://localhost:8080/",
          "height": 504
        },
        "id": "o7cwLGdWyXMf",
        "outputId": "9077185d-8843-4ade-d3c8-16af8ba7e3fe"
      },
      "source": [
        "# Create dataframe for positive and negative sentiment tweets\n",
        "\n",
        "pos_text = tweets_df_govt[tweets_df_govt['comp_score']=='pos']\n",
        "neg_text = tweets_df_govt[tweets_df_govt['comp_score']=='neg']\n",
        "pos_text.head()"
      ],
      "execution_count": null,
      "outputs": [
        {
          "output_type": "execute_result",
          "data": {
            "text/html": [
              "<div>\n",
              "<style scoped>\n",
              "    .dataframe tbody tr th:only-of-type {\n",
              "        vertical-align: middle;\n",
              "    }\n",
              "\n",
              "    .dataframe tbody tr th {\n",
              "        vertical-align: top;\n",
              "    }\n",
              "\n",
              "    .dataframe thead th {\n",
              "        text-align: right;\n",
              "    }\n",
              "</style>\n",
              "<table border=\"1\" class=\"dataframe\">\n",
              "  <thead>\n",
              "    <tr style=\"text-align: right;\">\n",
              "      <th></th>\n",
              "      <th>Unnamed: 0</th>\n",
              "      <th>url</th>\n",
              "      <th>date</th>\n",
              "      <th>content</th>\n",
              "      <th>id</th>\n",
              "      <th>username</th>\n",
              "      <th>outlinks</th>\n",
              "      <th>outlinksss</th>\n",
              "      <th>tcooutlinks</th>\n",
              "      <th>tcooutlinksss</th>\n",
              "      <th>content_clean</th>\n",
              "      <th>content_clean_str</th>\n",
              "      <th>government related</th>\n",
              "      <th>sentiment</th>\n",
              "      <th>compound</th>\n",
              "      <th>comp_score</th>\n",
              "    </tr>\n",
              "  </thead>\n",
              "  <tbody>\n",
              "    <tr>\n",
              "      <th>0</th>\n",
              "      <td>0</td>\n",
              "      <td>https://twitter.com/Twitchy80887477/status/146...</td>\n",
              "      <td>2021-12-04 05:07:15+00:00</td>\n",
              "      <td>NEW COVID 🦠 VARIANT IN AUSTRALIA! 🤦🏾‍♂️ #short...</td>\n",
              "      <td>1466997506416521216</td>\n",
              "      <td>Twitchy80887477</td>\n",
              "      <td>['https://youtube.com/shorts/XKXuk1qNEEs?featu...</td>\n",
              "      <td>https://youtube.com/shorts/XKXuk1qNEEs?feature...</td>\n",
              "      <td>['https://t.co/lyKqNwI8es']</td>\n",
              "      <td>https://t.co/lyKqNwI8es</td>\n",
              "      <td>[new, covid, variant, australia, shorts, via, ...</td>\n",
              "      <td>['new', 'covid', 'variant', 'australia', 'shor...</td>\n",
              "      <td>Not government related</td>\n",
              "      <td>{'neg': 0.0, 'neu': 1.0, 'pos': 0.0, 'compound...</td>\n",
              "      <td>0.0000</td>\n",
              "      <td>pos</td>\n",
              "    </tr>\n",
              "    <tr>\n",
              "      <th>3</th>\n",
              "      <td>3</td>\n",
              "      <td>https://twitter.com/tapsHEEloggg/status/146699...</td>\n",
              "      <td>2021-12-04 05:04:06+00:00</td>\n",
              "      <td>kelan ba matatapos covid nato T_T lockdown na ...</td>\n",
              "      <td>1466996712837242880</td>\n",
              "      <td>tapsHEEloggg</td>\n",
              "      <td>[]</td>\n",
              "      <td>NaN</td>\n",
              "      <td>[]</td>\n",
              "      <td>NaN</td>\n",
              "      <td>[kelan, ba, matatapos, covid, nato, lockdown, ...</td>\n",
              "      <td>['kelan', 'ba', 'matatapos', 'covid', 'nato', ...</td>\n",
              "      <td>Not government related</td>\n",
              "      <td>{'neg': 0.0, 'neu': 1.0, 'pos': 0.0, 'compound...</td>\n",
              "      <td>0.0000</td>\n",
              "      <td>pos</td>\n",
              "    </tr>\n",
              "    <tr>\n",
              "      <th>5</th>\n",
              "      <td>5</td>\n",
              "      <td>https://twitter.com/silrodau/status/1466996188...</td>\n",
              "      <td>2021-12-04 05:02:01+00:00</td>\n",
              "      <td>@haralabob I think Australia did pretty well m...</td>\n",
              "      <td>1466996188050165762</td>\n",
              "      <td>silrodau</td>\n",
              "      <td>[]</td>\n",
              "      <td>NaN</td>\n",
              "      <td>[]</td>\n",
              "      <td>NaN</td>\n",
              "      <td>[haralabob, think, australia, pretty, well, ma...</td>\n",
              "      <td>['haralabob', 'think', 'australia', 'pretty', ...</td>\n",
              "      <td>Not government related</td>\n",
              "      <td>{'neg': 0.12, 'neu': 0.617, 'pos': 0.262, 'com...</td>\n",
              "      <td>0.5574</td>\n",
              "      <td>pos</td>\n",
              "    </tr>\n",
              "    <tr>\n",
              "      <th>6</th>\n",
              "      <td>6</td>\n",
              "      <td>https://twitter.com/CovidPete/status/146699614...</td>\n",
              "      <td>2021-12-04 05:01:50+00:00</td>\n",
              "      <td>SOUTH AUSTRALIA\\nCOVID-19\\nEXPOSURE SITES\\n4-1...</td>\n",
              "      <td>1466996141279621121</td>\n",
              "      <td>CovidPete</td>\n",
              "      <td>[]</td>\n",
              "      <td>NaN</td>\n",
              "      <td>[]</td>\n",
              "      <td>NaN</td>\n",
              "      <td>[south, australia, exposure, sites]</td>\n",
              "      <td>['south', 'australia', 'exposure', 'sites']</td>\n",
              "      <td>Not government related</td>\n",
              "      <td>{'neg': 0.0, 'neu': 1.0, 'pos': 0.0, 'compound...</td>\n",
              "      <td>0.0000</td>\n",
              "      <td>pos</td>\n",
              "    </tr>\n",
              "    <tr>\n",
              "      <th>7</th>\n",
              "      <td>7</td>\n",
              "      <td>https://twitter.com/CovidPete/status/146699613...</td>\n",
              "      <td>2021-12-04 05:01:48+00:00</td>\n",
              "      <td>SOUTH AUSTRALIA\\nCOVID-19\\nEXPOSURE SITES\\n4-1...</td>\n",
              "      <td>1466996134262550528</td>\n",
              "      <td>CovidPete</td>\n",
              "      <td>[]</td>\n",
              "      <td>NaN</td>\n",
              "      <td>[]</td>\n",
              "      <td>NaN</td>\n",
              "      <td>[south, australia, exposure, sites]</td>\n",
              "      <td>['south', 'australia', 'exposure', 'sites']</td>\n",
              "      <td>Not government related</td>\n",
              "      <td>{'neg': 0.0, 'neu': 1.0, 'pos': 0.0, 'compound...</td>\n",
              "      <td>0.0000</td>\n",
              "      <td>pos</td>\n",
              "    </tr>\n",
              "  </tbody>\n",
              "</table>\n",
              "</div>"
            ],
            "text/plain": [
              "   Unnamed: 0  ... comp_score\n",
              "0           0  ...        pos\n",
              "3           3  ...        pos\n",
              "5           5  ...        pos\n",
              "6           6  ...        pos\n",
              "7           7  ...        pos\n",
              "\n",
              "[5 rows x 16 columns]"
            ]
          },
          "metadata": {},
          "execution_count": 83
        }
      ]
    },
    {
      "cell_type": "code",
      "metadata": {
        "colab": {
          "base_uri": "https://localhost:8080/",
          "height": 217
        },
        "id": "ZItRSHKxyzCx",
        "outputId": "48a4f020-e625-4b80-adaf-82fb04e42658"
      },
      "source": [
        "# Create word cloud of positive sentiment tweets\n",
        "\n",
        "long_string = ','.join(pos_text['content_clean'].map(str).values)\n",
        "\n",
        "# Create a WordCloud object\n",
        "\n",
        "wordcloud_pos = WordCloud(background_color=\"white\", max_words=5000, contour_width=3, contour_color='steelblue')\n",
        "\n",
        "# Generate a word cloud\n",
        "\n",
        "wordcloud_pos.generate(long_string)\n",
        "\n",
        "# Visualize the word cloud\n",
        "\n",
        "wordcloud_pos.to_image()"
      ],
      "execution_count": null,
      "outputs": [
        {
          "output_type": "execute_result",
          "data": {
            "image/png": "[encoded data removed]",
            "text/plain": [
              "<PIL.Image.Image image mode=RGB size=400x200 at 0x7F3508585B50>"
            ]
          },
          "metadata": {},
          "execution_count": 98
        }
      ]
    },
    {
      "cell_type": "code",
      "metadata": {
        "colab": {
          "base_uri": "https://localhost:8080/"
        },
        "id": "Fe1ektyA0oFt",
        "outputId": "c2bec2f5-b24c-4920-f8d8-e20c0f301677"
      },
      "source": [
        "# Create list for positive tweets\n",
        "\n",
        "data_words_pos = pos_text['content_clean'].to_list()\n",
        "\n",
        "# Create Dictionary\n",
        "\n",
        "id2word_pos = corpora.Dictionary(data_words_pos)\n",
        "\n",
        "# Create Corpus\n",
        "\n",
        "texts_pos = data_words_pos\n",
        "\n",
        "# Term Document Frequency\n",
        "\n",
        "corpus_pos = [id2word.doc2bow(text) for text in texts_pos]\n",
        "# View\n",
        "print(corpus_pos[:1][0][:30])"
      ],
      "execution_count": null,
      "outputs": [
        {
          "output_type": "stream",
          "name": "stdout",
          "text": [
            "[(0, 1), (1, 1), (2, 1), (3, 1), (4, 1), (5, 1), (6, 1)]\n"
          ]
        }
      ]
    },
    {
      "cell_type": "code",
      "metadata": {
        "colab": {
          "base_uri": "https://localhost:8080/"
        },
        "id": "LSE3sVYSzM5c",
        "outputId": "5bf7acad-ef1f-4303-d6b3-602791d2d8c9"
      },
      "source": [
        "# Set the number of topics\n",
        "num_topics = 3\n",
        "\n",
        "# Build LDA model for positive tweets\n",
        "lda_model_pos = gensim.models.LdaMulticore(corpus=corpus_pos,\n",
        "                                       id2word=id2word_pos,\n",
        "                                       num_topics=num_topics)\n",
        "\n",
        "# Print the Keyword in the 5 topics\n",
        "pprint(lda_model_pos.print_topics())\n",
        "doc_lda_pos = lda_model_pos[corpus_pos]"
      ],
      "execution_count": null,
      "outputs": [
        {
          "output_type": "stream",
          "name": "stdout",
          "text": [
            "[(0,\n",
            "  '0.063*\"australia\" + 0.033*\"omicron\" + 0.029*\"covid\" + 0.021*\"variant\" + '\n",
            "  '0.013*\"cases\" + 0.012*\"new\" + 0.009*\"coronavirus\" + 0.006*\"canada\" + '\n",
            "  '0.005*\"countries\" + 0.005*\"south\"'),\n",
            " (1,\n",
            "  '0.047*\"australia\" + 0.024*\"covid\" + 0.019*\"booster\" + 0.016*\"omicron\" + '\n",
            "  '0.013*\"variant\" + 0.011*\"cases\" + 0.008*\"new\" + 0.007*\"vaccine\" + '\n",
            "  '0.006*\"shots\" + 0.006*\"via\"'),\n",
            " (2,\n",
            "  '0.029*\"australia\" + 0.021*\"omicron\" + 0.017*\"variant\" + 0.015*\"detected\" + '\n",
            "  '0.012*\"de\" + 0.011*\"covid\" + 0.010*\"vaccine\" + 0.009*\"time\" + '\n",
            "  '0.009*\"coronavirus\" + 0.006*\"israel\"')]\n"
          ]
        }
      ]
    },
    {
      "cell_type": "code",
      "metadata": {
        "colab": {
          "base_uri": "https://localhost:8080/",
          "height": 217
        },
        "id": "N1ngBR4L1o-c",
        "outputId": "3e84057a-c49c-486e-cf29-e475cce85a51"
      },
      "source": [
        "# Create word cloud of negative sentiment tweets\n",
        "\n",
        "long_string = ','.join(neg_text['content_clean'].map(str).values)\n",
        "\n",
        "# Create a WordCloud object\n",
        "\n",
        "wordcloud_neg = WordCloud(background_color=\"white\", max_words=5000, contour_width=3, contour_color='steelblue')\n",
        "\n",
        "# Generate a word cloud\n",
        "\n",
        "wordcloud_neg.generate(long_string)\n",
        "\n",
        "# Visualize the word cloud\n",
        "\n",
        "wordcloud_neg.to_image()"
      ],
      "execution_count": null,
      "outputs": [
        {
          "output_type": "execute_result",
          "data": {
            "image/png": "[encoded data removed]",
            "text/plain": [
              "<PIL.Image.Image image mode=RGB size=400x200 at 0x7F35062B8390>"
            ]
          },
          "metadata": {},
          "execution_count": 109
        }
      ]
    },
    {
      "cell_type": "code",
      "metadata": {
        "colab": {
          "base_uri": "https://localhost:8080/"
        },
        "id": "cryVmAHD2TW_",
        "outputId": "d5068734-af2f-4e21-b1c3-9dc5e0488e99"
      },
      "source": [
        "# Create list for negative tweets\n",
        "\n",
        "data_words_neg = neg_text['content_clean'].to_list()\n",
        "\n",
        "# Create Dictionary for negative tweets\n",
        "\n",
        "id2word_neg = corpora.Dictionary(data_words_neg)\n",
        "\n",
        "# Create Corpus\n",
        "\n",
        "texts_neg = data_words_neg\n",
        "\n",
        "# Term Document Frequency\n",
        "\n",
        "corpus_neg = [id2word.doc2bow(text) for text in texts_neg]\n",
        "\n",
        "# View\n",
        "print(corpus_neg[:1][0][:30])"
      ],
      "execution_count": null,
      "outputs": [
        {
          "output_type": "stream",
          "name": "stdout",
          "text": [
            "[(0, 1), (1, 1), (70, 1), (201, 1), (202, 1), (1080, 1), (2058, 1), (5406, 1)]\n"
          ]
        }
      ]
    },
    {
      "cell_type": "code",
      "metadata": {
        "colab": {
          "base_uri": "https://localhost:8080/",
          "height": 1000
        },
        "id": "9cqvrFbh4MRq",
        "outputId": "f72fe42e-8a15-43da-a3f6-9800e36c60e3"
      },
      "source": [
        "# Set the number of topics\n",
        "num_topics = 3\n",
        "\n",
        "# Build LDA model for negative tweets\n",
        "lda_model_neg = gensim.models.LdaMulticore(corpus=corpus_neg,\n",
        "                                       id2word=id2word_neg,\n",
        "                                       num_topics=num_topics)\n",
        "\n",
        "# Print the Keyword in the 5 topics\n",
        "pprint(lda_model_neg.print_topics())\n",
        "doc_lda_neg = lda_model_neg[corpus_neg]"
      ],
      "execution_count": null,
      "outputs": [
        {
          "output_type": "stream",
          "name": "stderr",
          "text": [
            "Process ForkPoolWorker-22:\n",
            "Traceback (most recent call last):\n",
            "  File \"/usr/lib/python3.7/multiprocessing/process.py\", line 297, in _bootstrap\n",
            "    self.run()\n",
            "  File \"/usr/lib/python3.7/multiprocessing/process.py\", line 99, in run\n",
            "    self._target(*self._args, **self._kwargs)\n",
            "  File \"/usr/lib/python3.7/multiprocessing/pool.py\", line 105, in worker\n",
            "    initializer(*initargs)\n",
            "  File \"/usr/local/lib/python3.7/dist-packages/gensim/models/ldamulticore.py\", line 333, in worker_e_step\n",
            "    worker_lda.do_estep(chunk)  # TODO: auto-tune alpha?\n",
            "  File \"/usr/local/lib/python3.7/dist-packages/gensim/models/ldamodel.py\", line 725, in do_estep\n",
            "    gamma, sstats = self.inference(chunk, collect_sstats=True)\n",
            "  File \"/usr/local/lib/python3.7/dist-packages/gensim/models/ldamodel.py\", line 662, in inference\n",
            "    expElogbetad = self.expElogbeta[:, ids]\n",
            "IndexError: index 13881 is out of bounds for axis 1 with size 11370\n",
            "Process ForkPoolWorker-23:\n",
            "Traceback (most recent call last):\n",
            "  File \"/usr/lib/python3.7/multiprocessing/process.py\", line 297, in _bootstrap\n",
            "    self.run()\n",
            "  File \"/usr/lib/python3.7/multiprocessing/process.py\", line 99, in run\n",
            "    self._target(*self._args, **self._kwargs)\n",
            "  File \"/usr/lib/python3.7/multiprocessing/pool.py\", line 105, in worker\n",
            "    initializer(*initargs)\n",
            "  File \"/usr/local/lib/python3.7/dist-packages/gensim/models/ldamulticore.py\", line 333, in worker_e_step\n",
            "    worker_lda.do_estep(chunk)  # TODO: auto-tune alpha?\n",
            "  File \"/usr/local/lib/python3.7/dist-packages/gensim/models/ldamodel.py\", line 725, in do_estep\n",
            "    gamma, sstats = self.inference(chunk, collect_sstats=True)\n",
            "  File \"/usr/local/lib/python3.7/dist-packages/gensim/models/ldamodel.py\", line 662, in inference\n",
            "    expElogbetad = self.expElogbeta[:, ids]\n",
            "IndexError: index 15219 is out of bounds for axis 1 with size 11370\n",
            "Process ForkPoolWorker-24:\n",
            "Traceback (most recent call last):\n",
            "  File \"/usr/lib/python3.7/multiprocessing/process.py\", line 297, in _bootstrap\n",
            "    self.run()\n",
            "  File \"/usr/lib/python3.7/multiprocessing/process.py\", line 99, in run\n",
            "    self._target(*self._args, **self._kwargs)\n",
            "  File \"/usr/lib/python3.7/multiprocessing/pool.py\", line 105, in worker\n",
            "    initializer(*initargs)\n",
            "  File \"/usr/local/lib/python3.7/dist-packages/gensim/models/ldamulticore.py\", line 330, in worker_e_step\n",
            "    chunk_no, chunk, worker_lda = input_queue.get()\n",
            "  File \"/usr/lib/python3.7/multiprocessing/queues.py\", line 94, in get\n",
            "    res = self._recv_bytes()\n",
            "  File \"/usr/lib/python3.7/multiprocessing/connection.py\", line 216, in recv_bytes\n",
            "    buf = self._recv_bytes(maxlength)\n",
            "  File \"/usr/lib/python3.7/multiprocessing/connection.py\", line 407, in _recv_bytes\n",
            "    buf = self._recv(4)\n",
            "  File \"/usr/lib/python3.7/multiprocessing/connection.py\", line 379, in _recv\n",
            "    chunk = read(handle, remaining)\n",
            "KeyboardInterrupt\n"
          ]
        },
        {
          "output_type": "error",
          "ename": "KeyboardInterrupt",
          "evalue": "ignored",
          "traceback": [
            "\u001b[0;31m---------------------------------------------------------------------------\u001b[0m",
            "\u001b[0;31mKeyboardInterrupt\u001b[0m                         Traceback (most recent call last)",
            "\u001b[0;32m<ipython-input-121-63ce3d22b2e8>\u001b[0m in \u001b[0;36m<module>\u001b[0;34m()\u001b[0m\n\u001b[1;32m      5\u001b[0m lda_model_neg = gensim.models.LdaMulticore(corpus=corpus_neg,\n\u001b[1;32m      6\u001b[0m                                        \u001b[0mid2word\u001b[0m\u001b[0;34m=\u001b[0m\u001b[0mid2word_neg\u001b[0m\u001b[0;34m,\u001b[0m\u001b[0;34m\u001b[0m\u001b[0;34m\u001b[0m\u001b[0m\n\u001b[0;32m----> 7\u001b[0;31m                                        num_topics=num_topics)\n\u001b[0m\u001b[1;32m      8\u001b[0m \u001b[0;34m\u001b[0m\u001b[0m\n\u001b[1;32m      9\u001b[0m \u001b[0;31m# Print the Keyword in the 5 topics\u001b[0m\u001b[0;34m\u001b[0m\u001b[0;34m\u001b[0m\u001b[0;34m\u001b[0m\u001b[0m\n",
            "\u001b[0;32m/usr/local/lib/python3.7/dist-packages/gensim/models/ldamulticore.py\u001b[0m in \u001b[0;36m__init__\u001b[0;34m(self, corpus, num_topics, id2word, workers, chunksize, passes, batch, alpha, eta, decay, offset, eval_every, iterations, gamma_threshold, random_state, minimum_probability, minimum_phi_value, per_word_topics, dtype)\u001b[0m\n\u001b[1;32m    177\u001b[0m             \u001b[0mdecay\u001b[0m\u001b[0;34m=\u001b[0m\u001b[0mdecay\u001b[0m\u001b[0;34m,\u001b[0m \u001b[0moffset\u001b[0m\u001b[0;34m=\u001b[0m\u001b[0moffset\u001b[0m\u001b[0;34m,\u001b[0m \u001b[0meval_every\u001b[0m\u001b[0;34m=\u001b[0m\u001b[0meval_every\u001b[0m\u001b[0;34m,\u001b[0m \u001b[0miterations\u001b[0m\u001b[0;34m=\u001b[0m\u001b[0miterations\u001b[0m\u001b[0;34m,\u001b[0m\u001b[0;34m\u001b[0m\u001b[0;34m\u001b[0m\u001b[0m\n\u001b[1;32m    178\u001b[0m             \u001b[0mgamma_threshold\u001b[0m\u001b[0;34m=\u001b[0m\u001b[0mgamma_threshold\u001b[0m\u001b[0;34m,\u001b[0m \u001b[0mrandom_state\u001b[0m\u001b[0;34m=\u001b[0m\u001b[0mrandom_state\u001b[0m\u001b[0;34m,\u001b[0m \u001b[0mminimum_probability\u001b[0m\u001b[0;34m=\u001b[0m\u001b[0mminimum_probability\u001b[0m\u001b[0;34m,\u001b[0m\u001b[0;34m\u001b[0m\u001b[0;34m\u001b[0m\u001b[0m\n\u001b[0;32m--> 179\u001b[0;31m             \u001b[0mminimum_phi_value\u001b[0m\u001b[0;34m=\u001b[0m\u001b[0mminimum_phi_value\u001b[0m\u001b[0;34m,\u001b[0m \u001b[0mper_word_topics\u001b[0m\u001b[0;34m=\u001b[0m\u001b[0mper_word_topics\u001b[0m\u001b[0;34m,\u001b[0m \u001b[0mdtype\u001b[0m\u001b[0;34m=\u001b[0m\u001b[0mdtype\u001b[0m\u001b[0;34m\u001b[0m\u001b[0;34m\u001b[0m\u001b[0m\n\u001b[0m\u001b[1;32m    180\u001b[0m         )\n\u001b[1;32m    181\u001b[0m \u001b[0;34m\u001b[0m\u001b[0m\n",
            "\u001b[0;32m/usr/local/lib/python3.7/dist-packages/gensim/models/ldamodel.py\u001b[0m in \u001b[0;36m__init__\u001b[0;34m(self, corpus, num_topics, id2word, distributed, chunksize, passes, update_every, alpha, eta, decay, offset, eval_every, iterations, gamma_threshold, minimum_probability, random_state, ns_conf, minimum_phi_value, per_word_topics, callbacks, dtype)\u001b[0m\n\u001b[1;32m    513\u001b[0m         \u001b[0;32mif\u001b[0m \u001b[0mcorpus\u001b[0m \u001b[0;32mis\u001b[0m \u001b[0;32mnot\u001b[0m \u001b[0;32mNone\u001b[0m\u001b[0;34m:\u001b[0m\u001b[0;34m\u001b[0m\u001b[0;34m\u001b[0m\u001b[0m\n\u001b[1;32m    514\u001b[0m             \u001b[0muse_numpy\u001b[0m \u001b[0;34m=\u001b[0m \u001b[0mself\u001b[0m\u001b[0;34m.\u001b[0m\u001b[0mdispatcher\u001b[0m \u001b[0;32mis\u001b[0m \u001b[0;32mnot\u001b[0m \u001b[0;32mNone\u001b[0m\u001b[0;34m\u001b[0m\u001b[0;34m\u001b[0m\u001b[0m\n\u001b[0;32m--> 515\u001b[0;31m             \u001b[0mself\u001b[0m\u001b[0;34m.\u001b[0m\u001b[0mupdate\u001b[0m\u001b[0;34m(\u001b[0m\u001b[0mcorpus\u001b[0m\u001b[0;34m,\u001b[0m \u001b[0mchunks_as_numpy\u001b[0m\u001b[0;34m=\u001b[0m\u001b[0muse_numpy\u001b[0m\u001b[0;34m)\u001b[0m\u001b[0;34m\u001b[0m\u001b[0;34m\u001b[0m\u001b[0m\n\u001b[0m\u001b[1;32m    516\u001b[0m \u001b[0;34m\u001b[0m\u001b[0m\n\u001b[1;32m    517\u001b[0m     \u001b[0;32mdef\u001b[0m \u001b[0minit_dir_prior\u001b[0m\u001b[0;34m(\u001b[0m\u001b[0mself\u001b[0m\u001b[0;34m,\u001b[0m \u001b[0mprior\u001b[0m\u001b[0;34m,\u001b[0m \u001b[0mname\u001b[0m\u001b[0;34m)\u001b[0m\u001b[0;34m:\u001b[0m\u001b[0;34m\u001b[0m\u001b[0;34m\u001b[0m\u001b[0m\n",
            "\u001b[0;32m/usr/local/lib/python3.7/dist-packages/gensim/models/ldamulticore.py\u001b[0m in \u001b[0;36mupdate\u001b[0;34m(self, corpus, chunks_as_numpy)\u001b[0m\n\u001b[1;32m    304\u001b[0m             \u001b[0;31m# wait for all outstanding jobs to finish\u001b[0m\u001b[0;34m\u001b[0m\u001b[0;34m\u001b[0m\u001b[0;34m\u001b[0m\u001b[0m\n\u001b[1;32m    305\u001b[0m             \u001b[0;32mwhile\u001b[0m \u001b[0mqueue_size\u001b[0m\u001b[0;34m[\u001b[0m\u001b[0;36m0\u001b[0m\u001b[0;34m]\u001b[0m \u001b[0;34m>\u001b[0m \u001b[0;36m0\u001b[0m\u001b[0;34m:\u001b[0m\u001b[0;34m\u001b[0m\u001b[0;34m\u001b[0m\u001b[0m\n\u001b[0;32m--> 306\u001b[0;31m                 \u001b[0mprocess_result_queue\u001b[0m\u001b[0;34m(\u001b[0m\u001b[0mforce\u001b[0m\u001b[0;34m=\u001b[0m\u001b[0;32mTrue\u001b[0m\u001b[0;34m)\u001b[0m\u001b[0;34m\u001b[0m\u001b[0;34m\u001b[0m\u001b[0m\n\u001b[0m\u001b[1;32m    307\u001b[0m \u001b[0;34m\u001b[0m\u001b[0m\n\u001b[1;32m    308\u001b[0m             \u001b[0;32mif\u001b[0m \u001b[0mreallen\u001b[0m \u001b[0;34m!=\u001b[0m \u001b[0mlencorpus\u001b[0m\u001b[0;34m:\u001b[0m\u001b[0;34m\u001b[0m\u001b[0;34m\u001b[0m\u001b[0m\n",
            "\u001b[0;32m/usr/local/lib/python3.7/dist-packages/gensim/models/ldamulticore.py\u001b[0m in \u001b[0;36mprocess_result_queue\u001b[0;34m(force)\u001b[0m\n\u001b[1;32m    266\u001b[0m                 \"\"\"\n\u001b[1;32m    267\u001b[0m                 \u001b[0mmerged_new\u001b[0m \u001b[0;34m=\u001b[0m \u001b[0;32mFalse\u001b[0m\u001b[0;34m\u001b[0m\u001b[0;34m\u001b[0m\u001b[0m\n\u001b[0;32m--> 268\u001b[0;31m                 \u001b[0;32mwhile\u001b[0m \u001b[0;32mnot\u001b[0m \u001b[0mresult_queue\u001b[0m\u001b[0;34m.\u001b[0m\u001b[0mempty\u001b[0m\u001b[0;34m(\u001b[0m\u001b[0;34m)\u001b[0m\u001b[0;34m:\u001b[0m\u001b[0;34m\u001b[0m\u001b[0;34m\u001b[0m\u001b[0m\n\u001b[0m\u001b[1;32m    269\u001b[0m                     \u001b[0mother\u001b[0m\u001b[0;34m.\u001b[0m\u001b[0mmerge\u001b[0m\u001b[0;34m(\u001b[0m\u001b[0mresult_queue\u001b[0m\u001b[0;34m.\u001b[0m\u001b[0mget\u001b[0m\u001b[0;34m(\u001b[0m\u001b[0;34m)\u001b[0m\u001b[0;34m)\u001b[0m\u001b[0;34m\u001b[0m\u001b[0;34m\u001b[0m\u001b[0m\n\u001b[1;32m    270\u001b[0m                     \u001b[0mqueue_size\u001b[0m\u001b[0;34m[\u001b[0m\u001b[0;36m0\u001b[0m\u001b[0;34m]\u001b[0m \u001b[0;34m-=\u001b[0m \u001b[0;36m1\u001b[0m\u001b[0;34m\u001b[0m\u001b[0;34m\u001b[0m\u001b[0m\n",
            "\u001b[0;32m/usr/lib/python3.7/multiprocessing/queues.py\u001b[0m in \u001b[0;36mempty\u001b[0;34m(self)\u001b[0m\n\u001b[1;32m    118\u001b[0m \u001b[0;34m\u001b[0m\u001b[0m\n\u001b[1;32m    119\u001b[0m     \u001b[0;32mdef\u001b[0m \u001b[0mempty\u001b[0m\u001b[0;34m(\u001b[0m\u001b[0mself\u001b[0m\u001b[0;34m)\u001b[0m\u001b[0;34m:\u001b[0m\u001b[0;34m\u001b[0m\u001b[0;34m\u001b[0m\u001b[0m\n\u001b[0;32m--> 120\u001b[0;31m         \u001b[0;32mreturn\u001b[0m \u001b[0;32mnot\u001b[0m \u001b[0mself\u001b[0m\u001b[0;34m.\u001b[0m\u001b[0m_poll\u001b[0m\u001b[0;34m(\u001b[0m\u001b[0;34m)\u001b[0m\u001b[0;34m\u001b[0m\u001b[0;34m\u001b[0m\u001b[0m\n\u001b[0m\u001b[1;32m    121\u001b[0m \u001b[0;34m\u001b[0m\u001b[0m\n\u001b[1;32m    122\u001b[0m     \u001b[0;32mdef\u001b[0m \u001b[0mfull\u001b[0m\u001b[0;34m(\u001b[0m\u001b[0mself\u001b[0m\u001b[0;34m)\u001b[0m\u001b[0;34m:\u001b[0m\u001b[0;34m\u001b[0m\u001b[0;34m\u001b[0m\u001b[0m\n",
            "\u001b[0;32m/usr/lib/python3.7/multiprocessing/connection.py\u001b[0m in \u001b[0;36mpoll\u001b[0;34m(self, timeout)\u001b[0m\n\u001b[1;32m    255\u001b[0m         \u001b[0mself\u001b[0m\u001b[0;34m.\u001b[0m\u001b[0m_check_closed\u001b[0m\u001b[0;34m(\u001b[0m\u001b[0;34m)\u001b[0m\u001b[0;34m\u001b[0m\u001b[0;34m\u001b[0m\u001b[0m\n\u001b[1;32m    256\u001b[0m         \u001b[0mself\u001b[0m\u001b[0;34m.\u001b[0m\u001b[0m_check_readable\u001b[0m\u001b[0;34m(\u001b[0m\u001b[0;34m)\u001b[0m\u001b[0;34m\u001b[0m\u001b[0;34m\u001b[0m\u001b[0m\n\u001b[0;32m--> 257\u001b[0;31m         \u001b[0;32mreturn\u001b[0m \u001b[0mself\u001b[0m\u001b[0;34m.\u001b[0m\u001b[0m_poll\u001b[0m\u001b[0;34m(\u001b[0m\u001b[0mtimeout\u001b[0m\u001b[0;34m)\u001b[0m\u001b[0;34m\u001b[0m\u001b[0;34m\u001b[0m\u001b[0m\n\u001b[0m\u001b[1;32m    258\u001b[0m \u001b[0;34m\u001b[0m\u001b[0m\n\u001b[1;32m    259\u001b[0m     \u001b[0;32mdef\u001b[0m \u001b[0m__enter__\u001b[0m\u001b[0;34m(\u001b[0m\u001b[0mself\u001b[0m\u001b[0;34m)\u001b[0m\u001b[0;34m:\u001b[0m\u001b[0;34m\u001b[0m\u001b[0;34m\u001b[0m\u001b[0m\n",
            "\u001b[0;32m/usr/lib/python3.7/multiprocessing/connection.py\u001b[0m in \u001b[0;36m_poll\u001b[0;34m(self, timeout)\u001b[0m\n\u001b[1;32m    412\u001b[0m \u001b[0;34m\u001b[0m\u001b[0m\n\u001b[1;32m    413\u001b[0m     \u001b[0;32mdef\u001b[0m \u001b[0m_poll\u001b[0m\u001b[0;34m(\u001b[0m\u001b[0mself\u001b[0m\u001b[0;34m,\u001b[0m \u001b[0mtimeout\u001b[0m\u001b[0;34m)\u001b[0m\u001b[0;34m:\u001b[0m\u001b[0;34m\u001b[0m\u001b[0;34m\u001b[0m\u001b[0m\n\u001b[0;32m--> 414\u001b[0;31m         \u001b[0mr\u001b[0m \u001b[0;34m=\u001b[0m \u001b[0mwait\u001b[0m\u001b[0;34m(\u001b[0m\u001b[0;34m[\u001b[0m\u001b[0mself\u001b[0m\u001b[0;34m]\u001b[0m\u001b[0;34m,\u001b[0m \u001b[0mtimeout\u001b[0m\u001b[0;34m)\u001b[0m\u001b[0;34m\u001b[0m\u001b[0;34m\u001b[0m\u001b[0m\n\u001b[0m\u001b[1;32m    415\u001b[0m         \u001b[0;32mreturn\u001b[0m \u001b[0mbool\u001b[0m\u001b[0;34m(\u001b[0m\u001b[0mr\u001b[0m\u001b[0;34m)\u001b[0m\u001b[0;34m\u001b[0m\u001b[0;34m\u001b[0m\u001b[0m\n\u001b[1;32m    416\u001b[0m \u001b[0;34m\u001b[0m\u001b[0m\n",
            "\u001b[0;32m/usr/lib/python3.7/multiprocessing/connection.py\u001b[0m in \u001b[0;36mwait\u001b[0;34m(object_list, timeout)\u001b[0m\n\u001b[1;32m    919\u001b[0m \u001b[0;34m\u001b[0m\u001b[0m\n\u001b[1;32m    920\u001b[0m             \u001b[0;32mwhile\u001b[0m \u001b[0;32mTrue\u001b[0m\u001b[0;34m:\u001b[0m\u001b[0;34m\u001b[0m\u001b[0;34m\u001b[0m\u001b[0m\n\u001b[0;32m--> 921\u001b[0;31m                 \u001b[0mready\u001b[0m \u001b[0;34m=\u001b[0m \u001b[0mselector\u001b[0m\u001b[0;34m.\u001b[0m\u001b[0mselect\u001b[0m\u001b[0;34m(\u001b[0m\u001b[0mtimeout\u001b[0m\u001b[0;34m)\u001b[0m\u001b[0;34m\u001b[0m\u001b[0;34m\u001b[0m\u001b[0m\n\u001b[0m\u001b[1;32m    922\u001b[0m                 \u001b[0;32mif\u001b[0m \u001b[0mready\u001b[0m\u001b[0;34m:\u001b[0m\u001b[0;34m\u001b[0m\u001b[0;34m\u001b[0m\u001b[0m\n\u001b[1;32m    923\u001b[0m                     \u001b[0;32mreturn\u001b[0m \u001b[0;34m[\u001b[0m\u001b[0mkey\u001b[0m\u001b[0;34m.\u001b[0m\u001b[0mfileobj\u001b[0m \u001b[0;32mfor\u001b[0m \u001b[0;34m(\u001b[0m\u001b[0mkey\u001b[0m\u001b[0;34m,\u001b[0m \u001b[0mevents\u001b[0m\u001b[0;34m)\u001b[0m \u001b[0;32min\u001b[0m \u001b[0mready\u001b[0m\u001b[0;34m]\u001b[0m\u001b[0;34m\u001b[0m\u001b[0;34m\u001b[0m\u001b[0m\n",
            "\u001b[0;32m/usr/lib/python3.7/selectors.py\u001b[0m in \u001b[0;36mselect\u001b[0;34m(self, timeout)\u001b[0m\n\u001b[1;32m    413\u001b[0m         \u001b[0mready\u001b[0m \u001b[0;34m=\u001b[0m \u001b[0;34m[\u001b[0m\u001b[0;34m]\u001b[0m\u001b[0;34m\u001b[0m\u001b[0;34m\u001b[0m\u001b[0m\n\u001b[1;32m    414\u001b[0m         \u001b[0;32mtry\u001b[0m\u001b[0;34m:\u001b[0m\u001b[0;34m\u001b[0m\u001b[0;34m\u001b[0m\u001b[0m\n\u001b[0;32m--> 415\u001b[0;31m             \u001b[0mfd_event_list\u001b[0m \u001b[0;34m=\u001b[0m \u001b[0mself\u001b[0m\u001b[0;34m.\u001b[0m\u001b[0m_selector\u001b[0m\u001b[0;34m.\u001b[0m\u001b[0mpoll\u001b[0m\u001b[0;34m(\u001b[0m\u001b[0mtimeout\u001b[0m\u001b[0;34m)\u001b[0m\u001b[0;34m\u001b[0m\u001b[0;34m\u001b[0m\u001b[0m\n\u001b[0m\u001b[1;32m    416\u001b[0m         \u001b[0;32mexcept\u001b[0m \u001b[0mInterruptedError\u001b[0m\u001b[0;34m:\u001b[0m\u001b[0;34m\u001b[0m\u001b[0;34m\u001b[0m\u001b[0m\n\u001b[1;32m    417\u001b[0m             \u001b[0;32mreturn\u001b[0m \u001b[0mready\u001b[0m\u001b[0;34m\u001b[0m\u001b[0;34m\u001b[0m\u001b[0m\n",
            "\u001b[0;31mKeyboardInterrupt\u001b[0m: "
          ]
        }
      ]
    }
  ]
}